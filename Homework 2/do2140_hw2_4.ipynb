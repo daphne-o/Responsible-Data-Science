{
  "nbformat": 4,
  "nbformat_minor": 0,
  "metadata": {
    "colab": {
      "provenance": []
    },
    "kernelspec": {
      "name": "python3",
      "display_name": "Python 3"
    },
    "language_info": {
      "name": "python"
    }
  },
  "cells": [
    {
      "cell_type": "markdown",
      "source": [
        "# **HW 2 Problem 4 - Explainability with ShaRP**"
      ],
      "metadata": {
        "id": "jTFz1Gbt0TbP"
      }
    },
    {
      "cell_type": "markdown",
      "source": [
        "# Explaining lending decisions using ShaRP\n",
        "\n",
        "When multiple people apply for a loan, banks need to select who to fund. They do so by calculating how likely a person is to repay the loan and then select among the most likely. This process is a ranking process that ShaRP, a tool we saw in the lab, can explain."
      ],
      "metadata": {
        "id": "GiOcE_092dob"
      }
    },
    {
      "cell_type": "markdown",
      "source": [
        "To calculate feature importance, we will use ShaRP, a tool we've seen in the lab. For more information about the method, see the [full paper](https://arxiv.org/abs/2401.16744), and for more information about the toolkit see the [documentation](https://dataresponsibly.github.io/ShaRP/)."
      ],
      "metadata": {
        "id": "UwNmvX2p4lb8"
      }
    },
    {
      "cell_type": "markdown",
      "source": [
        "#1. Import Statements\n",
        "\n",
        "First we install `ShaRP` and the necessary packages for this problem"
      ],
      "metadata": {
        "id": "URXJ40r94iCF"
      }
    },
    {
      "cell_type": "code",
      "execution_count": 48,
      "metadata": {
        "colab": {
          "base_uri": "https://localhost:8080/"
        },
        "id": "8Q7ejpLGYBDq",
        "outputId": "f805db26-b627-42ae-cda8-e7ee6560a77d"
      },
      "outputs": [
        {
          "output_type": "stream",
          "name": "stdout",
          "text": [
            "Requirement already satisfied: folktables in /usr/local/lib/python3.11/dist-packages (0.0.12)\n",
            "Requirement already satisfied: numpy in /usr/local/lib/python3.11/dist-packages (from folktables) (2.0.2)\n",
            "Requirement already satisfied: pandas in /usr/local/lib/python3.11/dist-packages (from folktables) (2.2.2)\n",
            "Requirement already satisfied: requests in /usr/local/lib/python3.11/dist-packages (from folktables) (2.32.3)\n",
            "Requirement already satisfied: scikit-learn in /usr/local/lib/python3.11/dist-packages (from folktables) (1.6.1)\n",
            "Requirement already satisfied: python-dateutil>=2.8.2 in /usr/local/lib/python3.11/dist-packages (from pandas->folktables) (2.8.2)\n",
            "Requirement already satisfied: pytz>=2020.1 in /usr/local/lib/python3.11/dist-packages (from pandas->folktables) (2025.2)\n",
            "Requirement already satisfied: tzdata>=2022.7 in /usr/local/lib/python3.11/dist-packages (from pandas->folktables) (2025.2)\n",
            "Requirement already satisfied: charset-normalizer<4,>=2 in /usr/local/lib/python3.11/dist-packages (from requests->folktables) (3.4.1)\n",
            "Requirement already satisfied: idna<4,>=2.5 in /usr/local/lib/python3.11/dist-packages (from requests->folktables) (3.10)\n",
            "Requirement already satisfied: urllib3<3,>=1.21.1 in /usr/local/lib/python3.11/dist-packages (from requests->folktables) (2.3.0)\n",
            "Requirement already satisfied: certifi>=2017.4.17 in /usr/local/lib/python3.11/dist-packages (from requests->folktables) (2025.1.31)\n",
            "Requirement already satisfied: scipy>=1.6.0 in /usr/local/lib/python3.11/dist-packages (from scikit-learn->folktables) (1.14.1)\n",
            "Requirement already satisfied: joblib>=1.2.0 in /usr/local/lib/python3.11/dist-packages (from scikit-learn->folktables) (1.4.2)\n",
            "Requirement already satisfied: threadpoolctl>=3.1.0 in /usr/local/lib/python3.11/dist-packages (from scikit-learn->folktables) (3.6.0)\n",
            "Requirement already satisfied: six>=1.5 in /usr/local/lib/python3.11/dist-packages (from python-dateutil>=2.8.2->pandas->folktables) (1.17.0)\n",
            "Collecting git+https://github.com/DataResponsibly/ShaRP.git\n",
            "  Cloning https://github.com/DataResponsibly/ShaRP.git to /tmp/pip-req-build-pm7qryyo\n",
            "  Running command git clone --filter=blob:none --quiet https://github.com/DataResponsibly/ShaRP.git /tmp/pip-req-build-pm7qryyo\n",
            "  Resolved https://github.com/DataResponsibly/ShaRP.git to commit 7c7f698559af21eb854e769b03cac73bc2e39dd5\n",
            "  Preparing metadata (setup.py) ... \u001b[?25l\u001b[?25hdone\n",
            "Requirement already satisfied: numpy>=1.20.0 in /usr/local/lib/python3.11/dist-packages (from xai-sharp==0.1.0) (2.0.2)\n",
            "Requirement already satisfied: pandas>=1.3.5 in /usr/local/lib/python3.11/dist-packages (from xai-sharp==0.1.0) (2.2.2)\n",
            "Requirement already satisfied: scikit-learn>=1.2.0 in /usr/local/lib/python3.11/dist-packages (from xai-sharp==0.1.0) (1.6.1)\n",
            "Requirement already satisfied: tqdm>=4.46.0 in /usr/local/lib/python3.11/dist-packages (from xai-sharp==0.1.0) (4.67.1)\n",
            "Requirement already satisfied: python-dateutil>=2.8.2 in /usr/local/lib/python3.11/dist-packages (from pandas>=1.3.5->xai-sharp==0.1.0) (2.8.2)\n",
            "Requirement already satisfied: pytz>=2020.1 in /usr/local/lib/python3.11/dist-packages (from pandas>=1.3.5->xai-sharp==0.1.0) (2025.2)\n",
            "Requirement already satisfied: tzdata>=2022.7 in /usr/local/lib/python3.11/dist-packages (from pandas>=1.3.5->xai-sharp==0.1.0) (2025.2)\n",
            "Requirement already satisfied: scipy>=1.6.0 in /usr/local/lib/python3.11/dist-packages (from scikit-learn>=1.2.0->xai-sharp==0.1.0) (1.14.1)\n",
            "Requirement already satisfied: joblib>=1.2.0 in /usr/local/lib/python3.11/dist-packages (from scikit-learn>=1.2.0->xai-sharp==0.1.0) (1.4.2)\n",
            "Requirement already satisfied: threadpoolctl>=3.1.0 in /usr/local/lib/python3.11/dist-packages (from scikit-learn>=1.2.0->xai-sharp==0.1.0) (3.6.0)\n",
            "Requirement already satisfied: six>=1.5 in /usr/local/lib/python3.11/dist-packages (from python-dateutil>=2.8.2->pandas>=1.3.5->xai-sharp==0.1.0) (1.17.0)\n"
          ]
        }
      ],
      "source": [
        "# Data\n",
        "!pip install folktables\n",
        "# ShaRP\n",
        "!pip install git+https://github.com/DataResponsibly/ShaRP.git"
      ]
    },
    {
      "cell_type": "code",
      "source": [
        "#@markdown Import statments\n",
        "from folktables import ACSDataSource, ACSIncome\n",
        "\n",
        "import numpy as np\n",
        "\n",
        "import pandas as pd\n",
        "\n",
        "import matplotlib.pyplot as plt\n",
        "import matplotlib.ticker as mtick\n",
        "import matplotlib.ticker as ticker\n",
        "\n",
        "import seaborn as sns\n",
        "\n",
        "import math\n",
        "\n",
        "from sklearn.model_selection import train_test_split\n",
        "from sklearn.preprocessing import StandardScaler, MinMaxScaler\n",
        "from sklearn.linear_model import LogisticRegression\n",
        "\n",
        "from sharp import ShaRP\n",
        "from sharp.utils import scores_to_ordering"
      ],
      "metadata": {
        "id": "ulyDUxyiYM-E"
      },
      "execution_count": 49,
      "outputs": []
    },
    {
      "cell_type": "markdown",
      "source": [
        "#2. Load Data\n",
        "\n",
        "Next, we will load the ACSIncome dataset from the Folktables benchmark --- this is the same dataset used in Lab 2, 3 and 9.  Folktables is based from US Census Data and is built to solve a few simple prediction tasks. The sample we pull is data from 2018 in California. The column names are described in the table below. Note that certain categorical variables have been mapped to integer values, which we will keep as-is for the following analyses."
      ],
      "metadata": {
        "id": "A8FHA1kD44UC"
      }
    },
    {
      "cell_type": "markdown",
      "source": [
        "## Data profiling\n",
        "\n",
        "| Column Name | Feature | Description/Notes |\n",
        "| --- | ----------- | --- |\n",
        "| PINCP | Total person’s income | (Target) 1 if >= $50k, 0 if less |\n",
        "| SEX | Sex | (Sensitive Attribute) Male=1, Female=2 |\n",
        "| RAC1P | Race | (Sensitive Attribute) White=1, Black=2, Other races are between 3 and 9 |\n",
        "| AGEP | Age | Ranges from 0-99 |\n",
        "| COW | Class of Worker | Ranges 1-9, see paper for description |\n",
        "| SCHL | Education Level | Ranges 1-24, see paper for description |\n",
        "| MAR | Marital Status | Ranges 1-5, see paper for description |\n",
        "| OCCP | Occupation | Codes taken from Public Use Microdata Sample (PUMS) from the US Census, see paper |\n",
        "| POBP | Place of Birth | Codes taken from Public Use Microdata Sample (PUMS) from the US Census, see paper |\n",
        "| RELP | Relationship | Relationship of individual to person who responded to the Census taker. Ranges 0-17, see paper for description |\n",
        "| WKHP | Hours worked per week | Ranges from 0-99, averaged over previous year |"
      ],
      "metadata": {
        "id": "h3bNDwQ85BIM"
      }
    },
    {
      "cell_type": "code",
      "source": [
        "#@markdown Import data\n",
        "# data_source = ACSDataSource(survey_year='2018', horizon='1-Year', survey='person')\n",
        "# acs_data = data_source.get_data(states=[\"CA\"], download=True)\n",
        "\n",
        "import gdown\n",
        "# Replace with your actual file ID from the Google Drive link\n",
        "file_id = '12fp-280VSQQimkZ7WmMBlrCwWlvsJVxJ'\n",
        "# Construct the downloadable URL\n",
        "url = f'https://drive.google.com/uc?id={file_id}'\n",
        "# Download the file\n",
        "gdown.download(url, 'downloaded_file.csv', quiet=False)\n",
        "# Read the CSV file\n",
        "acs_data = pd.read_csv('downloaded_file.csv')\n",
        "\n",
        "features = ACSIncome.features\n",
        "target_name = ACSIncome.target\n",
        "data = acs_data.sample(1000, random_state=39)[features+list([target_name])]\n",
        "\n",
        "print(data.shape)\n",
        "data.head()"
      ],
      "metadata": {
        "colab": {
          "base_uri": "https://localhost:8080/",
          "height": 310
        },
        "id": "zAvcY-VRYSDM",
        "outputId": "eb97f579-ca08-4d6b-b2f1-ea73eaf21403"
      },
      "execution_count": 50,
      "outputs": [
        {
          "output_type": "stream",
          "name": "stderr",
          "text": [
            "Downloading...\n",
            "From (original): https://drive.google.com/uc?id=12fp-280VSQQimkZ7WmMBlrCwWlvsJVxJ\n",
            "From (redirected): https://drive.google.com/uc?id=12fp-280VSQQimkZ7WmMBlrCwWlvsJVxJ&confirm=t&uuid=e7edb85b-4ebb-4714-9e32-2a1243347815\n",
            "To: /content/downloaded_file.csv\n",
            "100%|██████████| 267M/267M [00:02<00:00, 128MB/s]\n"
          ]
        },
        {
          "output_type": "stream",
          "name": "stdout",
          "text": [
            "(1000, 11)\n"
          ]
        },
        {
          "output_type": "execute_result",
          "data": {
            "text/plain": [
              "        AGEP  COW  SCHL  MAR    OCCP  POBP  RELP  WKHP  SEX  RAC1P    PINCP\n",
              "123170    40  1.0  12.0    4  9640.0   303     0  40.0    2      8   6300.0\n",
              "366093    40  3.0  16.0    5  5240.0   316    10  40.0    2      8  36000.0\n",
              "279966    37  1.0  20.0    5  5000.0   303     5   NaN    2      1      0.0\n",
              "206601    50  1.0  16.0    1  7700.0   206     1  56.0    1      6  48000.0\n",
              "96394     26  7.0  19.0    5  7200.0   216     2  50.0    1      1  60000.0"
            ],
            "text/html": [
              "\n",
              "  <div id=\"df-63c5e425-212d-4e6c-8a4f-4f184f35a01d\" class=\"colab-df-container\">\n",
              "    <div>\n",
              "<style scoped>\n",
              "    .dataframe tbody tr th:only-of-type {\n",
              "        vertical-align: middle;\n",
              "    }\n",
              "\n",
              "    .dataframe tbody tr th {\n",
              "        vertical-align: top;\n",
              "    }\n",
              "\n",
              "    .dataframe thead th {\n",
              "        text-align: right;\n",
              "    }\n",
              "</style>\n",
              "<table border=\"1\" class=\"dataframe\">\n",
              "  <thead>\n",
              "    <tr style=\"text-align: right;\">\n",
              "      <th></th>\n",
              "      <th>AGEP</th>\n",
              "      <th>COW</th>\n",
              "      <th>SCHL</th>\n",
              "      <th>MAR</th>\n",
              "      <th>OCCP</th>\n",
              "      <th>POBP</th>\n",
              "      <th>RELP</th>\n",
              "      <th>WKHP</th>\n",
              "      <th>SEX</th>\n",
              "      <th>RAC1P</th>\n",
              "      <th>PINCP</th>\n",
              "    </tr>\n",
              "  </thead>\n",
              "  <tbody>\n",
              "    <tr>\n",
              "      <th>123170</th>\n",
              "      <td>40</td>\n",
              "      <td>1.0</td>\n",
              "      <td>12.0</td>\n",
              "      <td>4</td>\n",
              "      <td>9640.0</td>\n",
              "      <td>303</td>\n",
              "      <td>0</td>\n",
              "      <td>40.0</td>\n",
              "      <td>2</td>\n",
              "      <td>8</td>\n",
              "      <td>6300.0</td>\n",
              "    </tr>\n",
              "    <tr>\n",
              "      <th>366093</th>\n",
              "      <td>40</td>\n",
              "      <td>3.0</td>\n",
              "      <td>16.0</td>\n",
              "      <td>5</td>\n",
              "      <td>5240.0</td>\n",
              "      <td>316</td>\n",
              "      <td>10</td>\n",
              "      <td>40.0</td>\n",
              "      <td>2</td>\n",
              "      <td>8</td>\n",
              "      <td>36000.0</td>\n",
              "    </tr>\n",
              "    <tr>\n",
              "      <th>279966</th>\n",
              "      <td>37</td>\n",
              "      <td>1.0</td>\n",
              "      <td>20.0</td>\n",
              "      <td>5</td>\n",
              "      <td>5000.0</td>\n",
              "      <td>303</td>\n",
              "      <td>5</td>\n",
              "      <td>NaN</td>\n",
              "      <td>2</td>\n",
              "      <td>1</td>\n",
              "      <td>0.0</td>\n",
              "    </tr>\n",
              "    <tr>\n",
              "      <th>206601</th>\n",
              "      <td>50</td>\n",
              "      <td>1.0</td>\n",
              "      <td>16.0</td>\n",
              "      <td>1</td>\n",
              "      <td>7700.0</td>\n",
              "      <td>206</td>\n",
              "      <td>1</td>\n",
              "      <td>56.0</td>\n",
              "      <td>1</td>\n",
              "      <td>6</td>\n",
              "      <td>48000.0</td>\n",
              "    </tr>\n",
              "    <tr>\n",
              "      <th>96394</th>\n",
              "      <td>26</td>\n",
              "      <td>7.0</td>\n",
              "      <td>19.0</td>\n",
              "      <td>5</td>\n",
              "      <td>7200.0</td>\n",
              "      <td>216</td>\n",
              "      <td>2</td>\n",
              "      <td>50.0</td>\n",
              "      <td>1</td>\n",
              "      <td>1</td>\n",
              "      <td>60000.0</td>\n",
              "    </tr>\n",
              "  </tbody>\n",
              "</table>\n",
              "</div>\n",
              "    <div class=\"colab-df-buttons\">\n",
              "\n",
              "  <div class=\"colab-df-container\">\n",
              "    <button class=\"colab-df-convert\" onclick=\"convertToInteractive('df-63c5e425-212d-4e6c-8a4f-4f184f35a01d')\"\n",
              "            title=\"Convert this dataframe to an interactive table.\"\n",
              "            style=\"display:none;\">\n",
              "\n",
              "  <svg xmlns=\"http://www.w3.org/2000/svg\" height=\"24px\" viewBox=\"0 -960 960 960\">\n",
              "    <path d=\"M120-120v-720h720v720H120Zm60-500h600v-160H180v160Zm220 220h160v-160H400v160Zm0 220h160v-160H400v160ZM180-400h160v-160H180v160Zm440 0h160v-160H620v160ZM180-180h160v-160H180v160Zm440 0h160v-160H620v160Z\"/>\n",
              "  </svg>\n",
              "    </button>\n",
              "\n",
              "  <style>\n",
              "    .colab-df-container {\n",
              "      display:flex;\n",
              "      gap: 12px;\n",
              "    }\n",
              "\n",
              "    .colab-df-convert {\n",
              "      background-color: #E8F0FE;\n",
              "      border: none;\n",
              "      border-radius: 50%;\n",
              "      cursor: pointer;\n",
              "      display: none;\n",
              "      fill: #1967D2;\n",
              "      height: 32px;\n",
              "      padding: 0 0 0 0;\n",
              "      width: 32px;\n",
              "    }\n",
              "\n",
              "    .colab-df-convert:hover {\n",
              "      background-color: #E2EBFA;\n",
              "      box-shadow: 0px 1px 2px rgba(60, 64, 67, 0.3), 0px 1px 3px 1px rgba(60, 64, 67, 0.15);\n",
              "      fill: #174EA6;\n",
              "    }\n",
              "\n",
              "    .colab-df-buttons div {\n",
              "      margin-bottom: 4px;\n",
              "    }\n",
              "\n",
              "    [theme=dark] .colab-df-convert {\n",
              "      background-color: #3B4455;\n",
              "      fill: #D2E3FC;\n",
              "    }\n",
              "\n",
              "    [theme=dark] .colab-df-convert:hover {\n",
              "      background-color: #434B5C;\n",
              "      box-shadow: 0px 1px 3px 1px rgba(0, 0, 0, 0.15);\n",
              "      filter: drop-shadow(0px 1px 2px rgba(0, 0, 0, 0.3));\n",
              "      fill: #FFFFFF;\n",
              "    }\n",
              "  </style>\n",
              "\n",
              "    <script>\n",
              "      const buttonEl =\n",
              "        document.querySelector('#df-63c5e425-212d-4e6c-8a4f-4f184f35a01d button.colab-df-convert');\n",
              "      buttonEl.style.display =\n",
              "        google.colab.kernel.accessAllowed ? 'block' : 'none';\n",
              "\n",
              "      async function convertToInteractive(key) {\n",
              "        const element = document.querySelector('#df-63c5e425-212d-4e6c-8a4f-4f184f35a01d');\n",
              "        const dataTable =\n",
              "          await google.colab.kernel.invokeFunction('convertToInteractive',\n",
              "                                                    [key], {});\n",
              "        if (!dataTable) return;\n",
              "\n",
              "        const docLinkHtml = 'Like what you see? Visit the ' +\n",
              "          '<a target=\"_blank\" href=https://colab.research.google.com/notebooks/data_table.ipynb>data table notebook</a>'\n",
              "          + ' to learn more about interactive tables.';\n",
              "        element.innerHTML = '';\n",
              "        dataTable['output_type'] = 'display_data';\n",
              "        await google.colab.output.renderOutput(dataTable, element);\n",
              "        const docLink = document.createElement('div');\n",
              "        docLink.innerHTML = docLinkHtml;\n",
              "        element.appendChild(docLink);\n",
              "      }\n",
              "    </script>\n",
              "  </div>\n",
              "\n",
              "\n",
              "<div id=\"df-27296024-604f-4ca2-b16f-7a19eeecec06\">\n",
              "  <button class=\"colab-df-quickchart\" onclick=\"quickchart('df-27296024-604f-4ca2-b16f-7a19eeecec06')\"\n",
              "            title=\"Suggest charts\"\n",
              "            style=\"display:none;\">\n",
              "\n",
              "<svg xmlns=\"http://www.w3.org/2000/svg\" height=\"24px\"viewBox=\"0 0 24 24\"\n",
              "     width=\"24px\">\n",
              "    <g>\n",
              "        <path d=\"M19 3H5c-1.1 0-2 .9-2 2v14c0 1.1.9 2 2 2h14c1.1 0 2-.9 2-2V5c0-1.1-.9-2-2-2zM9 17H7v-7h2v7zm4 0h-2V7h2v10zm4 0h-2v-4h2v4z\"/>\n",
              "    </g>\n",
              "</svg>\n",
              "  </button>\n",
              "\n",
              "<style>\n",
              "  .colab-df-quickchart {\n",
              "      --bg-color: #E8F0FE;\n",
              "      --fill-color: #1967D2;\n",
              "      --hover-bg-color: #E2EBFA;\n",
              "      --hover-fill-color: #174EA6;\n",
              "      --disabled-fill-color: #AAA;\n",
              "      --disabled-bg-color: #DDD;\n",
              "  }\n",
              "\n",
              "  [theme=dark] .colab-df-quickchart {\n",
              "      --bg-color: #3B4455;\n",
              "      --fill-color: #D2E3FC;\n",
              "      --hover-bg-color: #434B5C;\n",
              "      --hover-fill-color: #FFFFFF;\n",
              "      --disabled-bg-color: #3B4455;\n",
              "      --disabled-fill-color: #666;\n",
              "  }\n",
              "\n",
              "  .colab-df-quickchart {\n",
              "    background-color: var(--bg-color);\n",
              "    border: none;\n",
              "    border-radius: 50%;\n",
              "    cursor: pointer;\n",
              "    display: none;\n",
              "    fill: var(--fill-color);\n",
              "    height: 32px;\n",
              "    padding: 0;\n",
              "    width: 32px;\n",
              "  }\n",
              "\n",
              "  .colab-df-quickchart:hover {\n",
              "    background-color: var(--hover-bg-color);\n",
              "    box-shadow: 0 1px 2px rgba(60, 64, 67, 0.3), 0 1px 3px 1px rgba(60, 64, 67, 0.15);\n",
              "    fill: var(--button-hover-fill-color);\n",
              "  }\n",
              "\n",
              "  .colab-df-quickchart-complete:disabled,\n",
              "  .colab-df-quickchart-complete:disabled:hover {\n",
              "    background-color: var(--disabled-bg-color);\n",
              "    fill: var(--disabled-fill-color);\n",
              "    box-shadow: none;\n",
              "  }\n",
              "\n",
              "  .colab-df-spinner {\n",
              "    border: 2px solid var(--fill-color);\n",
              "    border-color: transparent;\n",
              "    border-bottom-color: var(--fill-color);\n",
              "    animation:\n",
              "      spin 1s steps(1) infinite;\n",
              "  }\n",
              "\n",
              "  @keyframes spin {\n",
              "    0% {\n",
              "      border-color: transparent;\n",
              "      border-bottom-color: var(--fill-color);\n",
              "      border-left-color: var(--fill-color);\n",
              "    }\n",
              "    20% {\n",
              "      border-color: transparent;\n",
              "      border-left-color: var(--fill-color);\n",
              "      border-top-color: var(--fill-color);\n",
              "    }\n",
              "    30% {\n",
              "      border-color: transparent;\n",
              "      border-left-color: var(--fill-color);\n",
              "      border-top-color: var(--fill-color);\n",
              "      border-right-color: var(--fill-color);\n",
              "    }\n",
              "    40% {\n",
              "      border-color: transparent;\n",
              "      border-right-color: var(--fill-color);\n",
              "      border-top-color: var(--fill-color);\n",
              "    }\n",
              "    60% {\n",
              "      border-color: transparent;\n",
              "      border-right-color: var(--fill-color);\n",
              "    }\n",
              "    80% {\n",
              "      border-color: transparent;\n",
              "      border-right-color: var(--fill-color);\n",
              "      border-bottom-color: var(--fill-color);\n",
              "    }\n",
              "    90% {\n",
              "      border-color: transparent;\n",
              "      border-bottom-color: var(--fill-color);\n",
              "    }\n",
              "  }\n",
              "</style>\n",
              "\n",
              "  <script>\n",
              "    async function quickchart(key) {\n",
              "      const quickchartButtonEl =\n",
              "        document.querySelector('#' + key + ' button');\n",
              "      quickchartButtonEl.disabled = true;  // To prevent multiple clicks.\n",
              "      quickchartButtonEl.classList.add('colab-df-spinner');\n",
              "      try {\n",
              "        const charts = await google.colab.kernel.invokeFunction(\n",
              "            'suggestCharts', [key], {});\n",
              "      } catch (error) {\n",
              "        console.error('Error during call to suggestCharts:', error);\n",
              "      }\n",
              "      quickchartButtonEl.classList.remove('colab-df-spinner');\n",
              "      quickchartButtonEl.classList.add('colab-df-quickchart-complete');\n",
              "    }\n",
              "    (() => {\n",
              "      let quickchartButtonEl =\n",
              "        document.querySelector('#df-27296024-604f-4ca2-b16f-7a19eeecec06 button');\n",
              "      quickchartButtonEl.style.display =\n",
              "        google.colab.kernel.accessAllowed ? 'block' : 'none';\n",
              "    })();\n",
              "  </script>\n",
              "</div>\n",
              "\n",
              "    </div>\n",
              "  </div>\n"
            ],
            "application/vnd.google.colaboratory.intrinsic+json": {
              "type": "dataframe",
              "variable_name": "data",
              "summary": "{\n  \"name\": \"data\",\n  \"rows\": 1000,\n  \"fields\": [\n    {\n      \"column\": \"AGEP\",\n      \"properties\": {\n        \"dtype\": \"number\",\n        \"std\": 22,\n        \"min\": 0,\n        \"max\": 94,\n        \"num_unique_values\": 91,\n        \"samples\": [\n          9,\n          18,\n          49\n        ],\n        \"semantic_type\": \"\",\n        \"description\": \"\"\n      }\n    },\n    {\n      \"column\": \"COW\",\n      \"properties\": {\n        \"dtype\": \"number\",\n        \"std\": 2.034522429799689,\n        \"min\": 1.0,\n        \"max\": 9.0,\n        \"num_unique_values\": 9,\n        \"samples\": [\n          4.0,\n          3.0,\n          2.0\n        ],\n        \"semantic_type\": \"\",\n        \"description\": \"\"\n      }\n    },\n    {\n      \"column\": \"SCHL\",\n      \"properties\": {\n        \"dtype\": \"number\",\n        \"std\": 6.037273143853483,\n        \"min\": 1.0,\n        \"max\": 24.0,\n        \"num_unique_values\": 24,\n        \"samples\": [\n          1.0,\n          24.0,\n          12.0\n        ],\n        \"semantic_type\": \"\",\n        \"description\": \"\"\n      }\n    },\n    {\n      \"column\": \"MAR\",\n      \"properties\": {\n        \"dtype\": \"number\",\n        \"std\": 1,\n        \"min\": 1,\n        \"max\": 5,\n        \"num_unique_values\": 5,\n        \"samples\": [\n          5,\n          2,\n          1\n        ],\n        \"semantic_type\": \"\",\n        \"description\": \"\"\n      }\n    },\n    {\n      \"column\": \"OCCP\",\n      \"properties\": {\n        \"dtype\": \"number\",\n        \"std\": 2733.3828487097476,\n        \"min\": 10.0,\n        \"max\": 9920.0,\n        \"num_unique_values\": 201,\n        \"samples\": [\n          7210.0,\n          10.0,\n          7020.0\n        ],\n        \"semantic_type\": \"\",\n        \"description\": \"\"\n      }\n    },\n    {\n      \"column\": \"POBP\",\n      \"properties\": {\n        \"dtype\": \"number\",\n        \"std\": 122,\n        \"min\": 4,\n        \"max\": 508,\n        \"num_unique_values\": 97,\n        \"samples\": [\n          32,\n          449,\n          129\n        ],\n        \"semantic_type\": \"\",\n        \"description\": \"\"\n      }\n    },\n    {\n      \"column\": \"RELP\",\n      \"properties\": {\n        \"dtype\": \"number\",\n        \"std\": 4,\n        \"min\": 0,\n        \"max\": 17,\n        \"num_unique_values\": 17,\n        \"samples\": [\n          0,\n          10,\n          4\n        ],\n        \"semantic_type\": \"\",\n        \"description\": \"\"\n      }\n    },\n    {\n      \"column\": \"WKHP\",\n      \"properties\": {\n        \"dtype\": \"number\",\n        \"std\": 13.015026186600014,\n        \"min\": 1.0,\n        \"max\": 99.0,\n        \"num_unique_values\": 48,\n        \"samples\": [\n          72.0,\n          33.0,\n          24.0\n        ],\n        \"semantic_type\": \"\",\n        \"description\": \"\"\n      }\n    },\n    {\n      \"column\": \"SEX\",\n      \"properties\": {\n        \"dtype\": \"number\",\n        \"std\": 0,\n        \"min\": 1,\n        \"max\": 2,\n        \"num_unique_values\": 2,\n        \"samples\": [\n          1,\n          2\n        ],\n        \"semantic_type\": \"\",\n        \"description\": \"\"\n      }\n    },\n    {\n      \"column\": \"RAC1P\",\n      \"properties\": {\n        \"dtype\": \"number\",\n        \"std\": 2,\n        \"min\": 1,\n        \"max\": 9,\n        \"num_unique_values\": 8,\n        \"samples\": [\n          1,\n          3\n        ],\n        \"semantic_type\": \"\",\n        \"description\": \"\"\n      }\n    },\n    {\n      \"column\": \"PINCP\",\n      \"properties\": {\n        \"dtype\": \"number\",\n        \"std\": 82237.01285319959,\n        \"min\": -4800.0,\n        \"max\": 941000.0,\n        \"num_unique_values\": 351,\n        \"samples\": [\n          38000.0,\n          15800.0\n        ],\n        \"semantic_type\": \"\",\n        \"description\": \"\"\n      }\n    }\n  ]\n}"
            }
          },
          "metadata": {},
          "execution_count": 50
        }
      ]
    },
    {
      "cell_type": "markdown",
      "source": [
        "## Preprocessing\n",
        "\n",
        "Similarly to the explainability lab, we will be working with a limited number of features. We will also preprocess the data by dropping N/A columns and changing the type of features, as we did for this dataset in the labs."
      ],
      "metadata": {
        "id": "T5glmBPQ5OTs"
      }
    },
    {
      "cell_type": "code",
      "source": [
        "#@markdown Drop rows with missing values\n",
        "data.dropna(inplace=True)\n",
        "data.info()"
      ],
      "metadata": {
        "colab": {
          "base_uri": "https://localhost:8080/"
        },
        "id": "3cTZwBbtYXnJ",
        "outputId": "15beca22-2034-4dcc-e2c6-caa9e6f1a8c2"
      },
      "execution_count": 51,
      "outputs": [
        {
          "output_type": "stream",
          "name": "stdout",
          "text": [
            "<class 'pandas.core.frame.DataFrame'>\n",
            "Index: 545 entries, 123170 to 242250\n",
            "Data columns (total 11 columns):\n",
            " #   Column  Non-Null Count  Dtype  \n",
            "---  ------  --------------  -----  \n",
            " 0   AGEP    545 non-null    int64  \n",
            " 1   COW     545 non-null    float64\n",
            " 2   SCHL    545 non-null    float64\n",
            " 3   MAR     545 non-null    int64  \n",
            " 4   OCCP    545 non-null    float64\n",
            " 5   POBP    545 non-null    int64  \n",
            " 6   RELP    545 non-null    int64  \n",
            " 7   WKHP    545 non-null    float64\n",
            " 8   SEX     545 non-null    int64  \n",
            " 9   RAC1P   545 non-null    int64  \n",
            " 10  PINCP   545 non-null    float64\n",
            "dtypes: float64(5), int64(6)\n",
            "memory usage: 51.1 KB\n"
          ]
        }
      ]
    },
    {
      "cell_type": "code",
      "source": [
        "# @markdown Count how many people we are ranking\n",
        "population_size = data.shape[0]\n",
        "print(population_size)"
      ],
      "metadata": {
        "colab": {
          "base_uri": "https://localhost:8080/"
        },
        "id": "8gx4VEvYrwi9",
        "outputId": "51ea1244-e6eb-4fcb-fc24-c96361468dc1"
      },
      "execution_count": 52,
      "outputs": [
        {
          "output_type": "stream",
          "name": "stdout",
          "text": [
            "545\n"
          ]
        }
      ]
    },
    {
      "cell_type": "code",
      "source": [
        "#@markdown Drop non-ordinal and some sensitive categorical features\n",
        "non_ordinal_categorical_cols = ['COW','MAR','OCCP','POBP','RELP','SEX']\n",
        "data.drop(columns=non_ordinal_categorical_cols, inplace=True)"
      ],
      "metadata": {
        "id": "KiZBne-zI0VZ"
      },
      "execution_count": 53,
      "outputs": []
    },
    {
      "cell_type": "code",
      "source": [
        "#@markdown Change data types of categorical features and sensitive feature we will be using.\n",
        "# @markdown Note that we will use SCHL as a numerical feature because it's ordinal\n",
        "numerical_cols = ['AGEP','WKHP', 'SCHL']\n",
        "categorical_cols = ['RAC1P']\n",
        "\n",
        "for col in categorical_cols:\n",
        "  data[col] = data[col].astype('int')\n",
        "  data[col] = data[col].astype('category')\n",
        "\n",
        "data.info()"
      ],
      "metadata": {
        "colab": {
          "base_uri": "https://localhost:8080/"
        },
        "id": "pMsmDc0GYeef",
        "outputId": "9aee5fee-e983-4c62-8eb0-61342fb56661"
      },
      "execution_count": 54,
      "outputs": [
        {
          "output_type": "stream",
          "name": "stdout",
          "text": [
            "<class 'pandas.core.frame.DataFrame'>\n",
            "Index: 545 entries, 123170 to 242250\n",
            "Data columns (total 5 columns):\n",
            " #   Column  Non-Null Count  Dtype   \n",
            "---  ------  --------------  -----   \n",
            " 0   AGEP    545 non-null    int64   \n",
            " 1   SCHL    545 non-null    float64 \n",
            " 2   WKHP    545 non-null    float64 \n",
            " 3   RAC1P   545 non-null    category\n",
            " 4   PINCP   545 non-null    float64 \n",
            "dtypes: category(1), float64(3), int64(1)\n",
            "memory usage: 22.2 KB\n"
          ]
        }
      ]
    },
    {
      "cell_type": "code",
      "source": [
        "#@markdown Standardize numerical features, we will use a min-max scaler because we use linear weighted functions\n",
        "scaler = MinMaxScaler()\n",
        "data[numerical_cols] = scaler.fit_transform(data[numerical_cols])\n",
        "data.head()"
      ],
      "metadata": {
        "colab": {
          "base_uri": "https://localhost:8080/",
          "height": 206
        },
        "id": "IUKaF17fiRwM",
        "outputId": "24c6d44e-663e-4221-ffc4-915967a5179f"
      },
      "execution_count": 55,
      "outputs": [
        {
          "output_type": "execute_result",
          "data": {
            "text/plain": [
              "            AGEP      SCHL      WKHP RAC1P    PINCP\n",
              "123170  0.363636  0.478261  0.397959     8   6300.0\n",
              "366093  0.363636  0.652174  0.397959     8  36000.0\n",
              "206601  0.515152  0.652174  0.561224     6  48000.0\n",
              "96394   0.151515  0.782609  0.500000     1  60000.0\n",
              "232318  0.393939  0.869565  0.500000     9  55000.0"
            ],
            "text/html": [
              "\n",
              "  <div id=\"df-f4abf722-02ee-4a94-b78a-d0583d7d4c18\" class=\"colab-df-container\">\n",
              "    <div>\n",
              "<style scoped>\n",
              "    .dataframe tbody tr th:only-of-type {\n",
              "        vertical-align: middle;\n",
              "    }\n",
              "\n",
              "    .dataframe tbody tr th {\n",
              "        vertical-align: top;\n",
              "    }\n",
              "\n",
              "    .dataframe thead th {\n",
              "        text-align: right;\n",
              "    }\n",
              "</style>\n",
              "<table border=\"1\" class=\"dataframe\">\n",
              "  <thead>\n",
              "    <tr style=\"text-align: right;\">\n",
              "      <th></th>\n",
              "      <th>AGEP</th>\n",
              "      <th>SCHL</th>\n",
              "      <th>WKHP</th>\n",
              "      <th>RAC1P</th>\n",
              "      <th>PINCP</th>\n",
              "    </tr>\n",
              "  </thead>\n",
              "  <tbody>\n",
              "    <tr>\n",
              "      <th>123170</th>\n",
              "      <td>0.363636</td>\n",
              "      <td>0.478261</td>\n",
              "      <td>0.397959</td>\n",
              "      <td>8</td>\n",
              "      <td>6300.0</td>\n",
              "    </tr>\n",
              "    <tr>\n",
              "      <th>366093</th>\n",
              "      <td>0.363636</td>\n",
              "      <td>0.652174</td>\n",
              "      <td>0.397959</td>\n",
              "      <td>8</td>\n",
              "      <td>36000.0</td>\n",
              "    </tr>\n",
              "    <tr>\n",
              "      <th>206601</th>\n",
              "      <td>0.515152</td>\n",
              "      <td>0.652174</td>\n",
              "      <td>0.561224</td>\n",
              "      <td>6</td>\n",
              "      <td>48000.0</td>\n",
              "    </tr>\n",
              "    <tr>\n",
              "      <th>96394</th>\n",
              "      <td>0.151515</td>\n",
              "      <td>0.782609</td>\n",
              "      <td>0.500000</td>\n",
              "      <td>1</td>\n",
              "      <td>60000.0</td>\n",
              "    </tr>\n",
              "    <tr>\n",
              "      <th>232318</th>\n",
              "      <td>0.393939</td>\n",
              "      <td>0.869565</td>\n",
              "      <td>0.500000</td>\n",
              "      <td>9</td>\n",
              "      <td>55000.0</td>\n",
              "    </tr>\n",
              "  </tbody>\n",
              "</table>\n",
              "</div>\n",
              "    <div class=\"colab-df-buttons\">\n",
              "\n",
              "  <div class=\"colab-df-container\">\n",
              "    <button class=\"colab-df-convert\" onclick=\"convertToInteractive('df-f4abf722-02ee-4a94-b78a-d0583d7d4c18')\"\n",
              "            title=\"Convert this dataframe to an interactive table.\"\n",
              "            style=\"display:none;\">\n",
              "\n",
              "  <svg xmlns=\"http://www.w3.org/2000/svg\" height=\"24px\" viewBox=\"0 -960 960 960\">\n",
              "    <path d=\"M120-120v-720h720v720H120Zm60-500h600v-160H180v160Zm220 220h160v-160H400v160Zm0 220h160v-160H400v160ZM180-400h160v-160H180v160Zm440 0h160v-160H620v160ZM180-180h160v-160H180v160Zm440 0h160v-160H620v160Z\"/>\n",
              "  </svg>\n",
              "    </button>\n",
              "\n",
              "  <style>\n",
              "    .colab-df-container {\n",
              "      display:flex;\n",
              "      gap: 12px;\n",
              "    }\n",
              "\n",
              "    .colab-df-convert {\n",
              "      background-color: #E8F0FE;\n",
              "      border: none;\n",
              "      border-radius: 50%;\n",
              "      cursor: pointer;\n",
              "      display: none;\n",
              "      fill: #1967D2;\n",
              "      height: 32px;\n",
              "      padding: 0 0 0 0;\n",
              "      width: 32px;\n",
              "    }\n",
              "\n",
              "    .colab-df-convert:hover {\n",
              "      background-color: #E2EBFA;\n",
              "      box-shadow: 0px 1px 2px rgba(60, 64, 67, 0.3), 0px 1px 3px 1px rgba(60, 64, 67, 0.15);\n",
              "      fill: #174EA6;\n",
              "    }\n",
              "\n",
              "    .colab-df-buttons div {\n",
              "      margin-bottom: 4px;\n",
              "    }\n",
              "\n",
              "    [theme=dark] .colab-df-convert {\n",
              "      background-color: #3B4455;\n",
              "      fill: #D2E3FC;\n",
              "    }\n",
              "\n",
              "    [theme=dark] .colab-df-convert:hover {\n",
              "      background-color: #434B5C;\n",
              "      box-shadow: 0px 1px 3px 1px rgba(0, 0, 0, 0.15);\n",
              "      filter: drop-shadow(0px 1px 2px rgba(0, 0, 0, 0.3));\n",
              "      fill: #FFFFFF;\n",
              "    }\n",
              "  </style>\n",
              "\n",
              "    <script>\n",
              "      const buttonEl =\n",
              "        document.querySelector('#df-f4abf722-02ee-4a94-b78a-d0583d7d4c18 button.colab-df-convert');\n",
              "      buttonEl.style.display =\n",
              "        google.colab.kernel.accessAllowed ? 'block' : 'none';\n",
              "\n",
              "      async function convertToInteractive(key) {\n",
              "        const element = document.querySelector('#df-f4abf722-02ee-4a94-b78a-d0583d7d4c18');\n",
              "        const dataTable =\n",
              "          await google.colab.kernel.invokeFunction('convertToInteractive',\n",
              "                                                    [key], {});\n",
              "        if (!dataTable) return;\n",
              "\n",
              "        const docLinkHtml = 'Like what you see? Visit the ' +\n",
              "          '<a target=\"_blank\" href=https://colab.research.google.com/notebooks/data_table.ipynb>data table notebook</a>'\n",
              "          + ' to learn more about interactive tables.';\n",
              "        element.innerHTML = '';\n",
              "        dataTable['output_type'] = 'display_data';\n",
              "        await google.colab.output.renderOutput(dataTable, element);\n",
              "        const docLink = document.createElement('div');\n",
              "        docLink.innerHTML = docLinkHtml;\n",
              "        element.appendChild(docLink);\n",
              "      }\n",
              "    </script>\n",
              "  </div>\n",
              "\n",
              "\n",
              "<div id=\"df-41c7fd1a-e13b-4ab1-91fd-f3bfa3b95c73\">\n",
              "  <button class=\"colab-df-quickchart\" onclick=\"quickchart('df-41c7fd1a-e13b-4ab1-91fd-f3bfa3b95c73')\"\n",
              "            title=\"Suggest charts\"\n",
              "            style=\"display:none;\">\n",
              "\n",
              "<svg xmlns=\"http://www.w3.org/2000/svg\" height=\"24px\"viewBox=\"0 0 24 24\"\n",
              "     width=\"24px\">\n",
              "    <g>\n",
              "        <path d=\"M19 3H5c-1.1 0-2 .9-2 2v14c0 1.1.9 2 2 2h14c1.1 0 2-.9 2-2V5c0-1.1-.9-2-2-2zM9 17H7v-7h2v7zm4 0h-2V7h2v10zm4 0h-2v-4h2v4z\"/>\n",
              "    </g>\n",
              "</svg>\n",
              "  </button>\n",
              "\n",
              "<style>\n",
              "  .colab-df-quickchart {\n",
              "      --bg-color: #E8F0FE;\n",
              "      --fill-color: #1967D2;\n",
              "      --hover-bg-color: #E2EBFA;\n",
              "      --hover-fill-color: #174EA6;\n",
              "      --disabled-fill-color: #AAA;\n",
              "      --disabled-bg-color: #DDD;\n",
              "  }\n",
              "\n",
              "  [theme=dark] .colab-df-quickchart {\n",
              "      --bg-color: #3B4455;\n",
              "      --fill-color: #D2E3FC;\n",
              "      --hover-bg-color: #434B5C;\n",
              "      --hover-fill-color: #FFFFFF;\n",
              "      --disabled-bg-color: #3B4455;\n",
              "      --disabled-fill-color: #666;\n",
              "  }\n",
              "\n",
              "  .colab-df-quickchart {\n",
              "    background-color: var(--bg-color);\n",
              "    border: none;\n",
              "    border-radius: 50%;\n",
              "    cursor: pointer;\n",
              "    display: none;\n",
              "    fill: var(--fill-color);\n",
              "    height: 32px;\n",
              "    padding: 0;\n",
              "    width: 32px;\n",
              "  }\n",
              "\n",
              "  .colab-df-quickchart:hover {\n",
              "    background-color: var(--hover-bg-color);\n",
              "    box-shadow: 0 1px 2px rgba(60, 64, 67, 0.3), 0 1px 3px 1px rgba(60, 64, 67, 0.15);\n",
              "    fill: var(--button-hover-fill-color);\n",
              "  }\n",
              "\n",
              "  .colab-df-quickchart-complete:disabled,\n",
              "  .colab-df-quickchart-complete:disabled:hover {\n",
              "    background-color: var(--disabled-bg-color);\n",
              "    fill: var(--disabled-fill-color);\n",
              "    box-shadow: none;\n",
              "  }\n",
              "\n",
              "  .colab-df-spinner {\n",
              "    border: 2px solid var(--fill-color);\n",
              "    border-color: transparent;\n",
              "    border-bottom-color: var(--fill-color);\n",
              "    animation:\n",
              "      spin 1s steps(1) infinite;\n",
              "  }\n",
              "\n",
              "  @keyframes spin {\n",
              "    0% {\n",
              "      border-color: transparent;\n",
              "      border-bottom-color: var(--fill-color);\n",
              "      border-left-color: var(--fill-color);\n",
              "    }\n",
              "    20% {\n",
              "      border-color: transparent;\n",
              "      border-left-color: var(--fill-color);\n",
              "      border-top-color: var(--fill-color);\n",
              "    }\n",
              "    30% {\n",
              "      border-color: transparent;\n",
              "      border-left-color: var(--fill-color);\n",
              "      border-top-color: var(--fill-color);\n",
              "      border-right-color: var(--fill-color);\n",
              "    }\n",
              "    40% {\n",
              "      border-color: transparent;\n",
              "      border-right-color: var(--fill-color);\n",
              "      border-top-color: var(--fill-color);\n",
              "    }\n",
              "    60% {\n",
              "      border-color: transparent;\n",
              "      border-right-color: var(--fill-color);\n",
              "    }\n",
              "    80% {\n",
              "      border-color: transparent;\n",
              "      border-right-color: var(--fill-color);\n",
              "      border-bottom-color: var(--fill-color);\n",
              "    }\n",
              "    90% {\n",
              "      border-color: transparent;\n",
              "      border-bottom-color: var(--fill-color);\n",
              "    }\n",
              "  }\n",
              "</style>\n",
              "\n",
              "  <script>\n",
              "    async function quickchart(key) {\n",
              "      const quickchartButtonEl =\n",
              "        document.querySelector('#' + key + ' button');\n",
              "      quickchartButtonEl.disabled = true;  // To prevent multiple clicks.\n",
              "      quickchartButtonEl.classList.add('colab-df-spinner');\n",
              "      try {\n",
              "        const charts = await google.colab.kernel.invokeFunction(\n",
              "            'suggestCharts', [key], {});\n",
              "      } catch (error) {\n",
              "        console.error('Error during call to suggestCharts:', error);\n",
              "      }\n",
              "      quickchartButtonEl.classList.remove('colab-df-spinner');\n",
              "      quickchartButtonEl.classList.add('colab-df-quickchart-complete');\n",
              "    }\n",
              "    (() => {\n",
              "      let quickchartButtonEl =\n",
              "        document.querySelector('#df-41c7fd1a-e13b-4ab1-91fd-f3bfa3b95c73 button');\n",
              "      quickchartButtonEl.style.display =\n",
              "        google.colab.kernel.accessAllowed ? 'block' : 'none';\n",
              "    })();\n",
              "  </script>\n",
              "</div>\n",
              "\n",
              "    </div>\n",
              "  </div>\n"
            ],
            "application/vnd.google.colaboratory.intrinsic+json": {
              "type": "dataframe",
              "variable_name": "data",
              "summary": "{\n  \"name\": \"data\",\n  \"rows\": 545,\n  \"fields\": [\n    {\n      \"column\": \"AGEP\",\n      \"properties\": {\n        \"dtype\": \"number\",\n        \"std\": 0.21820440102238128,\n        \"min\": 0.0,\n        \"max\": 1.0,\n        \"num_unique_values\": 62,\n        \"samples\": [\n          0.06060606060606061,\n          0.8787878787878789,\n          0.36363636363636365\n        ],\n        \"semantic_type\": \"\",\n        \"description\": \"\"\n      }\n    },\n    {\n      \"column\": \"SCHL\",\n      \"properties\": {\n        \"dtype\": \"number\",\n        \"std\": 0.17966383676036313,\n        \"min\": 0.0,\n        \"max\": 1.0,\n        \"num_unique_values\": 20,\n        \"samples\": [\n          0.4782608695652174,\n          0.6956521739130435,\n          0.6086956521739131\n        ],\n        \"semantic_type\": \"\",\n        \"description\": \"\"\n      }\n    },\n    {\n      \"column\": \"WKHP\",\n      \"properties\": {\n        \"dtype\": \"number\",\n        \"std\": 0.13280638965918368,\n        \"min\": 0.0,\n        \"max\": 0.9999999999999999,\n        \"num_unique_values\": 48,\n        \"samples\": [\n          0.7244897959183673,\n          0.32653061224489793,\n          0.2346938775510204\n        ],\n        \"semantic_type\": \"\",\n        \"description\": \"\"\n      }\n    },\n    {\n      \"column\": \"RAC1P\",\n      \"properties\": {\n        \"dtype\": \"category\",\n        \"num_unique_values\": 7,\n        \"samples\": [\n          8,\n          6,\n          7\n        ],\n        \"semantic_type\": \"\",\n        \"description\": \"\"\n      }\n    },\n    {\n      \"column\": \"PINCP\",\n      \"properties\": {\n        \"dtype\": \"number\",\n        \"std\": 91724.63287538705,\n        \"min\": -4800.0,\n        \"max\": 941000.0,\n        \"num_unique_values\": 264,\n        \"samples\": [\n          49000.0,\n          30080.0,\n          21400.0\n        ],\n        \"semantic_type\": \"\",\n        \"description\": \"\"\n      }\n    }\n  ]\n}"
            }
          },
          "metadata": {},
          "execution_count": 55
        }
      ]
    },
    {
      "cell_type": "code",
      "source": [
        "#@markdown Let's see how the distributions look after using the scaler\n",
        "fig, ax = plt.subplots(3,1,figsize=(8,12))\n",
        "\n",
        "ax[0] = sns.histplot(data=data, x=\"AGEP\", ax=ax[0])\n",
        "ax[1] = sns.histplot(data=data, x=\"SCHL\", ax=ax[1])\n",
        "ax[2] = sns.histplot(data=data, x=\"WKHP\", ax=ax[2])\n",
        "\n",
        "plt.show()"
      ],
      "metadata": {
        "colab": {
          "base_uri": "https://localhost:8080/",
          "height": 1000
        },
        "id": "XK5FbMBdwbJ_",
        "outputId": "6d746453-ab71-488a-f0a2-8d8b4d10093f"
      },
      "execution_count": 56,
      "outputs": [
        {
          "output_type": "display_data",
          "data": {
            "text/plain": [
              "<Figure size 640x480 with 13 Axes>"
            ],
            "image/png": "[encoded data removed]"
          },
          "metadata": {}
        },
        {
          "output_type": "display_data",
          "data": {
            "text/plain": [
              "<Figure size 800x1200 with 3 Axes>"
            ],
            "image/png": "[encoded data removed]"
          },
          "metadata": {}
        }
      ]
    },
    {
      "cell_type": "code",
      "source": [
        "# @markdown View number of unique values per feature\n",
        "for col in data.columns:\n",
        "    print(col,\": \",data[col].nunique())"
      ],
      "metadata": {
        "colab": {
          "base_uri": "https://localhost:8080/"
        },
        "id": "r1pGyx3eYsWV",
        "outputId": "f80c9187-b4dd-4e7f-a198-a743f1f4e52e"
      },
      "execution_count": 57,
      "outputs": [
        {
          "output_type": "stream",
          "name": "stdout",
          "text": [
            "AGEP :  62\n",
            "SCHL :  20\n",
            "WKHP :  48\n",
            "RAC1P :  7\n",
            "PINCP :  264\n"
          ]
        }
      ]
    },
    {
      "cell_type": "code",
      "source": [
        "#@markdown Here we will drop the target variable as well because in our scenario\n",
        "#@markdown we define our own target variables.\n",
        "data.drop(columns=['PINCP'], inplace=True)"
      ],
      "metadata": {
        "id": "wwrJTz1yY4XE"
      },
      "execution_count": 58,
      "outputs": []
    },
    {
      "cell_type": "markdown",
      "source": [
        "# Using ShaRP to calculate feature importance"
      ],
      "metadata": {
        "id": "spIVkKyS8L1U"
      }
    },
    {
      "cell_type": "markdown",
      "source": [
        "## Different ranking functions"
      ],
      "metadata": {
        "id": "2f_PJxay8VWI"
      }
    },
    {
      "cell_type": "markdown",
      "source": [
        "We will define three  ranking functions on Age, Work hours per week and education (`AGEP`, `SCHL`, `WKHP`). We use these features because we define numerical functions here and they are either continuous or ordinal categorical.\n",
        "\n",
        "Note that each function places higher weight in one of the features."
      ],
      "metadata": {
        "id": "N31W8Bow8umw"
      }
    },
    {
      "cell_type": "code",
      "source": [
        "#@markdown Define the scoring function and calculate the scores of all individuals\n",
        "def score_function_SCHL(X):\n",
        "    # AGEP, SCHL, WKHP\n",
        "    return 0.2 * X[:, 0] + 0.6 * X[:, 1] + 0.2 * X[:, 2]\n",
        "\n",
        "def score_function_WKHP(X):\n",
        "    # AGEP, SCHL, WKHP\n",
        "    return 0.2 * X[:, 0] + 0.2 * X[:, 1] + 0.6 * X[:, 2]\n",
        "\n",
        "def score_function_AGEP(X):\n",
        "    # AGEP, SCHL, WKHP\n",
        "    return 0.6 * X[:, 0] + 0.2 * X[:, 1] + 0.2 * X[:, 2]"
      ],
      "metadata": {
        "id": "bT6Oo2VRZFh2"
      },
      "execution_count": 59,
      "outputs": []
    },
    {
      "cell_type": "code",
      "source": [
        "# @markdown Save the dataframe into a numpy array called X and calculate the\n",
        "# @markdown target scores for all functions\n",
        "X = data.to_numpy()\n",
        "y_SCHL = score_function_SCHL(X)\n",
        "y_WKHP = score_function_WKHP(X)\n",
        "y_AGEP = score_function_AGEP(X)"
      ],
      "metadata": {
        "id": "xE0e6Zv_8lc5"
      },
      "execution_count": 60,
      "outputs": []
    },
    {
      "cell_type": "markdown",
      "source": [
        "## Define a ShaRP object for each function\n",
        "\n",
        "We will use an approximation to calculate feature importance faster. To do so, we use the parameter `sample_size`. See the [QII paper](https://ieeexplore.ieee.org/document/7546525) for more details on the number of samples and approximation error."
      ],
      "metadata": {
        "id": "g2jtOdDs9zzJ"
      }
    },
    {
      "cell_type": "code",
      "source": [
        "# @markdown ShaRP object for the first (SCHL) score function\n",
        "sharp_ranking_SCHL = ShaRP(\n",
        "    qoi=\"rank\",\n",
        "    target_function=score_function_SCHL,\n",
        "    measure=\"shapley\",\n",
        "    sample_size=150,\n",
        "    replace=False,\n",
        "    random_state=42,\n",
        ")\n",
        "\n",
        "sharp_ranking_SCHL.fit(X)"
      ],
      "metadata": {
        "id": "vyuiboQ6ZIET"
      },
      "execution_count": 61,
      "outputs": []
    },
    {
      "cell_type": "code",
      "source": [
        "sharp_ranking_WKHP = ShaRP(\n",
        "    qoi=\"rank\",\n",
        "    target_function=score_function_WKHP,\n",
        "    measure=\"shapley\",\n",
        "    sample_size=150,\n",
        "    replace=False,\n",
        "    random_state=42,\n",
        ")\n",
        "\n",
        "sharp_ranking_WKHP.fit(X)"
      ],
      "metadata": {
        "id": "WbtBRaw7-Ztb"
      },
      "execution_count": 62,
      "outputs": []
    },
    {
      "cell_type": "code",
      "source": [
        "sharp_ranking_AGEP = ShaRP(\n",
        "    qoi=\"rank\",\n",
        "    target_function=score_function_AGEP,\n",
        "    measure=\"shapley\",\n",
        "    sample_size=150,\n",
        "    replace=False,\n",
        "    random_state=42,\n",
        ")\n",
        "\n",
        "sharp_ranking_AGEP.fit(X)"
      ],
      "metadata": {
        "id": "PkwQOmXW6mal"
      },
      "execution_count": 63,
      "outputs": []
    },
    {
      "cell_type": "markdown",
      "source": [
        "## Item order per function\n",
        "\n",
        "The ranked order of the data points depends on the ranking function. Let's calculate the ranking defined by each function."
      ],
      "metadata": {
        "id": "Sz1MMzaO_hxF"
      }
    },
    {
      "cell_type": "code",
      "source": [
        "order_WKHP = scores_to_ordering(y_WKHP)\n",
        "order_WKHP"
      ],
      "metadata": {
        "colab": {
          "base_uri": "https://localhost:8080/"
        },
        "id": "qk4LgSBj1nEv",
        "outputId": "65376771-dc99-48bf-c12c-ad4a9db4e0a0"
      },
      "execution_count": 64,
      "outputs": [
        {
          "output_type": "execute_result",
          "data": {
            "text/plain": [
              "array([406, 336,  63, 220,  88, 343, 183, 282, 342, 433, 541, 162, 377,\n",
              "       376, 129, 324, 265, 216, 464, 362,  67,  98, 320, 138, 439, 521,\n",
              "       185, 182, 421, 234, 127, 164, 530, 356, 476, 338, 472,  32, 212,\n",
              "       363, 482,  49, 331, 461, 326, 543,  77, 354, 365, 516, 287, 471,\n",
              "        48, 175, 435, 291, 351, 414,  65, 453, 490,  96, 116, 410, 534,\n",
              "       479, 132, 348, 402, 274, 403, 148, 399, 249,  79, 407,  21, 367,\n",
              "       361, 485, 269,  82, 493,  52, 114, 416, 203, 337, 252, 298, 211,\n",
              "       405, 255, 305, 292, 261, 459,  15,  28, 522,  29, 456, 257, 469,\n",
              "       119, 207,  25, 349,  34, 307, 378, 514, 181, 451, 495, 263,  19,\n",
              "        17, 386, 312, 474, 246, 396, 391,  69, 371, 155, 120, 204, 124,\n",
              "       158, 140,  75, 392,  47, 369, 126,   4, 533, 169, 425, 235,   6,\n",
              "        50, 197,  24, 221, 519, 225, 520, 273, 347, 341, 432, 335, 208,\n",
              "       452,  14, 467, 529, 528, 325, 508,  53, 487, 195, 382, 454, 201,\n",
              "       418, 470, 353, 135,  43,  39, 253,  35,  61, 477, 267, 177, 538,\n",
              "       270, 308,  41, 266,  33,  92, 260, 143, 491, 492,  73, 455, 352,\n",
              "       532, 436, 295, 424,  91, 233,  87, 430, 259, 443,  36, 370,  86,\n",
              "       322, 329, 545,   9, 284,  18, 122, 241, 428,  30,  54, 413, 515,\n",
              "       484, 165, 109, 327, 409, 504, 239, 438, 355, 350, 283, 393, 527,\n",
              "         2, 316, 278, 466, 540, 394, 339,  37, 113,  90, 170, 178, 531,\n",
              "       133, 108,  83,  74, 437, 426, 441, 121, 190, 210, 319, 100, 146,\n",
              "       400, 537, 384, 478, 144, 359, 374, 496, 193, 243, 535, 251, 156,\n",
              "       364, 242, 525, 271, 387, 506, 280,  38,  12, 230, 157, 176, 357,\n",
              "       317, 419, 222, 494, 254, 149, 264, 460, 196, 536, 288, 385, 103,\n",
              "       206,  62, 272, 102, 340,  20,  45,  46,  31, 184,  27, 134, 332,\n",
              "        76,  66, 130,  70,  59, 513, 152, 168,  22, 328, 141,   3,  57,\n",
              "       226, 300, 427, 398,  10, 219, 151, 360, 440, 397, 408, 303, 431,\n",
              "       524, 310, 505, 311, 192,  26, 236, 117, 498, 277, 297, 401, 481,\n",
              "        56, 381,  99, 372, 500,  11, 289, 194, 262,  81,  89,  16, 229,\n",
              "       200, 217, 390, 202, 137,  95, 154, 299, 240, 101, 302, 465, 187,\n",
              "       526, 123, 163, 415, 166, 423, 268, 309, 344, 180, 115, 118, 296,\n",
              "       279, 457, 503,  72, 473, 501, 290, 458, 150,  55,  23, 214, 248,\n",
              "       189, 215,  80, 223, 232,   5, 104, 422, 518, 106, 125, 380, 247,\n",
              "       366, 517, 301, 373, 313,  71, 205, 275, 306, 411,  85, 512, 139,\n",
              "       136, 499, 145, 379, 447, 213, 395, 507,  42,  68,  13, 245,   1,\n",
              "       444, 228, 172,   7, 321, 110, 258, 179, 107, 462,  93,  97, 314,\n",
              "       412, 511, 318, 159, 174, 389, 231, 199, 294, 383, 128, 147, 188,\n",
              "       160,   8, 489, 238,  58, 486, 315, 333, 375, 497, 449, 480, 345,\n",
              "       346, 502, 112, 281, 358, 209, 544, 420, 429, 475, 330, 463, 244,\n",
              "       111, 523, 509,  64, 483, 334,  60, 131, 323, 388, 368, 218, 256,\n",
              "       286, 186, 105, 276, 445, 191,  40, 468, 171, 446, 539, 237, 510,\n",
              "       488, 224, 442,  51, 404, 167, 153, 304, 250, 434, 227,  78, 417,\n",
              "       293,  94, 142, 161, 285, 173, 448, 198,  84, 450,  44, 542])"
            ]
          },
          "metadata": {},
          "execution_count": 64
        }
      ]
    },
    {
      "cell_type": "code",
      "source": [
        "# @markdown Order of data points based on the first scoring function\n",
        "order_SCHL = scores_to_ordering(y_SCHL)\n",
        "order_SCHL"
      ],
      "metadata": {
        "colab": {
          "base_uri": "https://localhost:8080/"
        },
        "id": "u9iHflLLZKpi",
        "outputId": "c0e098ad-a8aa-4f20-d181-8f7ef8c7a9cf"
      },
      "execution_count": 65,
      "outputs": [
        {
          "output_type": "execute_result",
          "data": {
            "text/plain": [
              "array([493, 425, 324, 333, 129, 450, 114, 238, 536, 487, 523, 172, 509,\n",
              "       526, 100, 185, 226, 387, 117, 250,  41, 403, 264,  30, 357, 320,\n",
              "       229, 113, 459, 231, 134, 128, 396, 388, 538, 503, 521,  73, 143,\n",
              "       520, 419, 317, 273, 532, 371, 464,  95, 126, 504, 390, 347, 416,\n",
              "        78, 103, 469, 314, 434, 472,  37, 443, 485,  97,  88, 519, 479,\n",
              "       535, 145, 283, 338, 365, 244, 299, 288, 170, 361, 449,  21, 360,\n",
              "       241, 246, 121, 110, 507,  27, 177, 455, 174, 407, 346, 495, 182,\n",
              "       414, 266, 253, 313, 180, 151,  57, 104, 488,  56, 363, 279, 458,\n",
              "       168,  58,  23, 285,  31, 116, 404, 441, 147, 478, 415, 391,  36,\n",
              "        25, 289, 222, 537, 309, 444, 442,  18, 517,  82, 135, 123, 176,\n",
              "       236, 188, 234, 392,   7, 249, 189,  13, 541, 245, 463, 196,  10,\n",
              "        53, 124,  39, 259, 525, 223, 545, 399, 284, 300, 326, 426, 348,\n",
              "       529,  16, 500, 440, 412, 421, 476, 291, 335, 192, 186, 169, 178,\n",
              "       281, 527, 432, 109,  54,   8, 319,  14, 164, 518, 191, 322, 531,\n",
              "       233, 352, 132, 228, 106, 214, 216, 152, 287, 474,  67, 364, 435,\n",
              "       452, 353, 411, 492, 522, 260,  48, 219, 215, 513,  43, 256, 382,\n",
              "       230, 274, 508,   1, 405,  17,  92, 204, 303,  29, 150, 502, 544,\n",
              "       367,  71, 158, 337, 497, 542, 301, 454, 389, 433, 423, 321, 439,\n",
              "       179, 393, 304, 501, 482, 205, 345,  26, 251,  98, 210,  19, 477,\n",
              "       153, 195, 122,  40, 295, 510, 331, 130, 155, 220, 329, 159, 119,\n",
              "       515, 471, 410, 499, 107, 325, 212, 422, 366, 373, 457, 339,  81,\n",
              "       384, 163, 498, 201, 512, 437, 307,  11,   4, 297, 302, 323, 394,\n",
              "       372, 473, 261, 430, 318, 232, 227, 385, 125, 456, 340, 379, 148,\n",
              "       383, 350, 506,  59, 344,   5,  32, 208, 293,  45,   6, 108, 242,\n",
              "       207,  94, 243, 137, 102, 468, 211,  28,  83, 294, 187,   2,  47,\n",
              "       224, 349, 398, 413,  35, 327, 200, 292,  33, 431, 505, 254, 445,\n",
              "       494, 258, 375, 221, 406, 101, 197,  89, 539, 306, 496, 400, 420,\n",
              "        46, 451,  22, 370, 481,   3, 312, 316, 181,  44,  20, 162, 358,\n",
              "       278,  77, 276, 175,  64,  96, 160, 380, 235,  60, 263, 362, 193,\n",
              "       395,  93, 127, 239,  91, 533, 136, 351, 429, 146,  87, 209,  65,\n",
              "       305, 290, 424, 111, 484, 453, 311, 462, 199,  62,  34, 144, 171,\n",
              "       157, 105, 377, 262, 461,  15,  69, 376, 524,  70, 190, 286, 275,\n",
              "       359, 490, 480, 334, 173, 112, 133,  66, 218,  84,  85, 268,  12,\n",
              "        63, 409, 118, 374, 194, 142, 448, 427, 115, 269,   9, 308,  76,\n",
              "       401, 149, 139, 332, 265, 131, 257, 184,  49, 467, 203,  51, 428,\n",
              "       402, 486, 330, 217, 140, 267, 296, 315, 247, 438,  99,  72, 156,\n",
              "       167, 198, 491, 368,  24, 514, 418, 213, 446, 255, 534, 540, 381,\n",
              "       282, 417,  80, 237, 355, 277, 543, 460, 466, 408, 272, 436,  90,\n",
              "        79, 489, 336,  50, 397, 202,  61, 165, 516, 386, 298, 354, 280,\n",
              "       356, 183,  68, 341,  74, 120,  38, 225,  42, 475, 530, 369, 483,\n",
              "       528, 240, 511,  52, 447, 310, 161, 252, 378, 470, 154,  75, 270,\n",
              "       248, 141, 206, 166,  55, 138, 328, 343,  86, 342, 271, 465])"
            ]
          },
          "metadata": {},
          "execution_count": 65
        }
      ]
    },
    {
      "cell_type": "code",
      "source": [
        "order_AGEP = scores_to_ordering(y_AGEP)\n",
        "order_AGEP"
      ],
      "metadata": {
        "colab": {
          "base_uri": "https://localhost:8080/"
        },
        "id": "dWTLWaqm6pd8",
        "outputId": "5d6f8f4d-f0b5-407e-badd-b522a8db00dc"
      },
      "execution_count": 66,
      "outputs": [
        {
          "output_type": "execute_result",
          "data": {
            "text/plain": [
              "array([386, 342, 178, 431, 228, 306, 236, 383, 324, 482, 543, 290, 241,\n",
              "       512, 135, 225, 358, 251,  21, 255, 107, 374, 423, 213,  48, 353,\n",
              "       174, 237, 488, 283, 108, 175, 493, 405, 335, 449, 499, 190, 300,\n",
              "       170, 504, 181, 438, 450, 380, 532, 169, 182, 242, 509, 434, 501,\n",
              "        62, 223, 511, 348, 368, 274,  95, 393, 508, 152, 109, 339, 536,\n",
              "       461, 121, 458, 454, 153, 419,  52, 337, 351, 161, 465,  49, 436,\n",
              "       124, 238, 207,  23, 126, 149, 315, 483, 266, 369, 231, 128, 284,\n",
              "       441,  38, 399, 349, 361,  58, 112,  13, 527, 171, 471, 292, 452,\n",
              "       295, 117,  16, 459,  31,  71, 435, 523, 211, 525, 479, 229,  79,\n",
              "        89, 127, 425, 318, 249, 433, 417,  40, 338, 188, 219,  42,  81,\n",
              "       103, 106, 277, 484,  12, 137, 340,   1, 387, 118, 495, 298,   3,\n",
              "       101, 268,  20, 233, 448, 264, 541, 261, 456, 296, 302, 343, 148,\n",
              "       428,  35, 519, 500, 517, 325, 475, 226, 276,  85, 202, 204, 150,\n",
              "       410, 481, 366, 144,  36,   5, 263,   2, 116, 518, 384,  92, 544,\n",
              "       372, 345,  27, 359,  44,  80, 332, 134, 354, 497, 115, 470, 365,\n",
              "       530, 464, 288, 442, 102, 252, 141, 227, 331, 451,  68, 271, 319,\n",
              "       334, 440, 542,   4, 280,  29, 123, 309, 447,  28, 322, 402, 529,\n",
              "       355,  17,  56, 398, 396, 491, 232, 463, 404, 367, 245, 415, 494,\n",
              "       130, 209, 330, 520, 514, 113, 406,  54, 278, 281, 140,  69, 538,\n",
              "       250,  37, 216,  30, 203, 506, 189, 200, 220, 253, 389, 287, 157,\n",
              "       304, 515, 444, 224,  39, 446, 147, 498,  90, 193, 533, 104, 187,\n",
              "       165, 333, 539, 394, 275, 524, 328,  24,  19, 217,  63,  91, 503,\n",
              "       474, 473, 370, 513, 262,  94, 357,  88, 269, 534, 413, 466,  46,\n",
              "       131, 272, 279,  77, 407,   8,  93, 240,  59, 158,  10, 145, 460,\n",
              "       412,  65, 239,  53,  86, 411, 379,  66,  34, 285, 105,  41, 163,\n",
              "       265, 114, 478, 235,  11, 314, 120, 469,  18, 210, 377, 400, 421,\n",
              "       537, 408, 507, 426, 323, 273, 297, 110, 307, 327, 129, 496, 505,\n",
              "        45, 487,  51, 445, 522,  15, 347, 397, 360,  32, 138, 214, 173,\n",
              "       185, 260, 311, 267, 166, 151, 142, 308, 293,  76, 430, 257, 195,\n",
              "       409, 122, 176, 303, 199, 286, 146, 344, 356, 212, 111,  55,  25,\n",
              "       329,  67, 480, 191, 429, 395, 346, 381, 119, 132,  61, 299, 350,\n",
              "       222, 317, 313, 371,  70,  33,  82,  98, 336,  83, 341, 443, 282,\n",
              "       437, 535, 172, 468,  87, 192, 294, 201, 414,  14, 247, 243,   6,\n",
              "       167, 427, 156, 455,  50, 301, 472, 486, 258,  47,  26, 248, 133,\n",
              "       159, 310, 197, 416, 424, 326, 420, 186, 234, 490, 168,  57, 362,\n",
              "       492, 526, 390, 388, 198, 180, 218, 164, 391, 403, 136, 177, 221,\n",
              "       154,  64, 467, 184, 208, 540, 316, 289, 378, 244, 375, 352, 485,\n",
              "       457, 462,  97, 382, 422,  75, 432, 489, 502, 376, 439, 179, 385,\n",
              "        96, 528,  99,  74, 320, 373,   9,  60, 125, 476, 477, 162, 291,\n",
              "       256,  78,  84, 418,   7, 254,  43, 215, 270, 521, 545, 183, 516,\n",
              "       363, 305, 205, 100, 453,  73, 143, 401, 206, 510, 194, 230, 160,\n",
              "       392, 259, 364, 155,  22, 196,  72, 139, 246, 321, 312, 531])"
            ]
          },
          "metadata": {},
          "execution_count": 66
        }
      ]
    },
    {
      "cell_type": "markdown",
      "source": [
        "## Item explainability for multiple functions\n",
        "\n",
        "Now we will select the person ranked 100th using the first function, and explain their featre importance under ALL functions"
      ],
      "metadata": {
        "id": "e9RMS0Vc_NVF"
      }
    },
    {
      "cell_type": "markdown",
      "source": [
        "## TODO: Part (a)"
      ],
      "metadata": {
        "id": "j_efiN2QAbqI"
      }
    },
    {
      "cell_type": "markdown",
      "source": [
        "### Part (i)"
      ],
      "metadata": {
        "id": "kdygVvBVmYoh"
      }
    },
    {
      "cell_type": "code",
      "source": [
        "# Select the 100th ranked individual according to sharp_ranking_SCHL\n",
        "person_idx_100 = np.where(order_SCHL == 100)[0][0]\n",
        "print(person_idx_100)"
      ],
      "metadata": {
        "id": "wS4ByEg2mbHJ",
        "colab": {
          "base_uri": "https://localhost:8080/"
        },
        "outputId": "21cc98c1-52ef-46c7-9b40-1326e22f39b7"
      },
      "execution_count": 67,
      "outputs": [
        {
          "output_type": "stream",
          "name": "stdout",
          "text": [
            "14\n"
          ]
        }
      ]
    },
    {
      "cell_type": "code",
      "source": [
        "data.iloc[person_idx_100]"
      ],
      "metadata": {
        "colab": {
          "base_uri": "https://localhost:8080/",
          "height": 209
        },
        "id": "ixzpk-PqrwLz",
        "outputId": "94637ddf-6ffe-4c44-a086-19ab77774fcb"
      },
      "execution_count": 68,
      "outputs": [
        {
          "output_type": "execute_result",
          "data": {
            "text/plain": [
              "AGEP     0.560606\n",
              "SCHL     0.869565\n",
              "WKHP     0.397959\n",
              "RAC1P    8.000000\n",
              "Name: 33500, dtype: float64"
            ],
            "text/html": [
              "<div>\n",
              "<style scoped>\n",
              "    .dataframe tbody tr th:only-of-type {\n",
              "        vertical-align: middle;\n",
              "    }\n",
              "\n",
              "    .dataframe tbody tr th {\n",
              "        vertical-align: top;\n",
              "    }\n",
              "\n",
              "    .dataframe thead th {\n",
              "        text-align: right;\n",
              "    }\n",
              "</style>\n",
              "<table border=\"1\" class=\"dataframe\">\n",
              "  <thead>\n",
              "    <tr style=\"text-align: right;\">\n",
              "      <th></th>\n",
              "      <th>33500</th>\n",
              "    </tr>\n",
              "  </thead>\n",
              "  <tbody>\n",
              "    <tr>\n",
              "      <th>AGEP</th>\n",
              "      <td>0.560606</td>\n",
              "    </tr>\n",
              "    <tr>\n",
              "      <th>SCHL</th>\n",
              "      <td>0.869565</td>\n",
              "    </tr>\n",
              "    <tr>\n",
              "      <th>WKHP</th>\n",
              "      <td>0.397959</td>\n",
              "    </tr>\n",
              "    <tr>\n",
              "      <th>RAC1P</th>\n",
              "      <td>8.000000</td>\n",
              "    </tr>\n",
              "  </tbody>\n",
              "</table>\n",
              "</div><br><label><b>dtype:</b> float64</label>"
            ]
          },
          "metadata": {},
          "execution_count": 68
        }
      ]
    },
    {
      "cell_type": "code",
      "source": [
        "# Find that individual's rank according to sharp_ranking_WKHP\n",
        "rank_in_WKHP = order_WKHP[person_idx_100]\n",
        "print(rank_in_WKHP)"
      ],
      "metadata": {
        "id": "DIbqjL7qnDku",
        "colab": {
          "base_uri": "https://localhost:8080/"
        },
        "outputId": "1723419e-e7ef-40eb-89e5-e1fff425e201"
      },
      "execution_count": 69,
      "outputs": [
        {
          "output_type": "stream",
          "name": "stdout",
          "text": [
            "129\n"
          ]
        }
      ]
    },
    {
      "cell_type": "code",
      "source": [
        "# Find that individual's rank according to sharp_ranking_AGEP\n",
        "rank_in_AGEP = order_AGEP[person_idx_100]\n",
        "print(rank_in_AGEP)"
      ],
      "metadata": {
        "id": "MUc_4yAHnHZH",
        "colab": {
          "base_uri": "https://localhost:8080/"
        },
        "outputId": "86973b3c-5ee4-4473-cbec-939ae75da981"
      },
      "execution_count": 70,
      "outputs": [
        {
          "output_type": "stream",
          "name": "stdout",
          "text": [
            "135\n"
          ]
        }
      ]
    },
    {
      "cell_type": "code",
      "source": [
        "# Do the above for another individual\n",
        "\n",
        "person_idx_75 = np.where(order_SCHL == 75)[0][0]\n",
        "data.iloc[person_idx_75]"
      ],
      "metadata": {
        "id": "JBtHFwNmJOtH",
        "colab": {
          "base_uri": "https://localhost:8080/",
          "height": 209
        },
        "outputId": "12f671ae-c9ca-456f-eff3-922242a07d5b"
      },
      "execution_count": 71,
      "outputs": [
        {
          "output_type": "execute_result",
          "data": {
            "text/plain": [
              "AGEP     0.378788\n",
              "SCHL     0.913043\n",
              "WKHP     0.500000\n",
              "RAC1P    9.000000\n",
              "Name: 49059, dtype: float64"
            ],
            "text/html": [
              "<div>\n",
              "<style scoped>\n",
              "    .dataframe tbody tr th:only-of-type {\n",
              "        vertical-align: middle;\n",
              "    }\n",
              "\n",
              "    .dataframe tbody tr th {\n",
              "        vertical-align: top;\n",
              "    }\n",
              "\n",
              "    .dataframe thead th {\n",
              "        text-align: right;\n",
              "    }\n",
              "</style>\n",
              "<table border=\"1\" class=\"dataframe\">\n",
              "  <thead>\n",
              "    <tr style=\"text-align: right;\">\n",
              "      <th></th>\n",
              "      <th>49059</th>\n",
              "    </tr>\n",
              "  </thead>\n",
              "  <tbody>\n",
              "    <tr>\n",
              "      <th>AGEP</th>\n",
              "      <td>0.378788</td>\n",
              "    </tr>\n",
              "    <tr>\n",
              "      <th>SCHL</th>\n",
              "      <td>0.913043</td>\n",
              "    </tr>\n",
              "    <tr>\n",
              "      <th>WKHP</th>\n",
              "      <td>0.500000</td>\n",
              "    </tr>\n",
              "    <tr>\n",
              "      <th>RAC1P</th>\n",
              "      <td>9.000000</td>\n",
              "    </tr>\n",
              "  </tbody>\n",
              "</table>\n",
              "</div><br><label><b>dtype:</b> float64</label>"
            ]
          },
          "metadata": {},
          "execution_count": 71
        }
      ]
    },
    {
      "cell_type": "code",
      "source": [
        "print(f'WKHP Rank: {order_WKHP[person_idx_75]}')\n",
        "print(f'AGEP Rank: {order_AGEP[person_idx_75]}')"
      ],
      "metadata": {
        "colab": {
          "base_uri": "https://localhost:8080/"
        },
        "id": "IfTeFEsyshg3",
        "outputId": "947510bb-85a1-4942-d47b-961c6fd0d1fa"
      },
      "execution_count": 72,
      "outputs": [
        {
          "output_type": "stream",
          "name": "stdout",
          "text": [
            "WKHP Rank: 78\n",
            "AGEP Rank: 230\n"
          ]
        }
      ]
    },
    {
      "cell_type": "markdown",
      "source": [
        "### Part (ii)"
      ],
      "metadata": {
        "id": "n9yj--uqnJtE"
      }
    },
    {
      "cell_type": "code",
      "source": [
        "# Inspect the individual feature contributions (waterfall plot) for the 100th ranked individual for sharp_ranking_SCHL\n",
        "\n",
        "scores_individual = sharp_ranking_SCHL.individual(int(person_idx_100), X)\n",
        "sharp_ranking_SCHL.plot.waterfall(scores_individual)"
      ],
      "metadata": {
        "id": "nXqWKGVEmdXF",
        "colab": {
          "base_uri": "https://localhost:8080/",
          "height": 486
        },
        "outputId": "2d42250c-e73b-4b8e-808c-c7445ae9a41f"
      },
      "execution_count": 73,
      "outputs": [
        {
          "output_type": "execute_result",
          "data": {
            "text/plain": [
              "<Figure size 640x480 with 3 Axes>"
            ],
            "image/png": "[encoded data removed]"
          },
          "metadata": {},
          "execution_count": 73
        }
      ]
    },
    {
      "cell_type": "code",
      "source": [
        "# Inspect the individual feature contributions (waterfall plot) for the 100th ranked individual for sharp_ranking_WKHP\n",
        "rank_100_wkhp = np.where(order_WKHP == 100)[0][0]\n",
        "\n",
        "scores_individual = sharp_ranking_WKHP.individual(int(rank_100_wkhp), X)\n",
        "sharp_ranking_WKHP.plot.waterfall(scores_individual)\n",
        "\n",
        "plt.show()"
      ],
      "metadata": {
        "id": "o8heHpW2moEs",
        "colab": {
          "base_uri": "https://localhost:8080/",
          "height": 486
        },
        "outputId": "529d9a0c-d0cf-4b66-f9c9-acc2ee2ce0bb"
      },
      "execution_count": 76,
      "outputs": [
        {
          "output_type": "display_data",
          "data": {
            "text/plain": [
              "<Figure size 640x480 with 5 Axes>"
            ],
            "image/png": "[encoded data removed]"
          },
          "metadata": {}
        }
      ]
    },
    {
      "cell_type": "code",
      "source": [
        "# Inspect the individual feature contributions (waterfall plot) for the 100th ranked individual for sharp_ranking_AGEP\n",
        "rank_100_agep = np.where(order_AGEP == 100)[0][0]\n",
        "\n",
        "scores_individual = sharp_ranking_AGEP.individual(int(rank_100_agep), X)\n",
        "sharp_ranking_AGEP.plot.waterfall(scores_individual)\n",
        "\n",
        "plt.show()"
      ],
      "metadata": {
        "id": "7Z3ZmUfTmoWQ",
        "colab": {
          "base_uri": "https://localhost:8080/",
          "height": 486
        },
        "outputId": "f37809d4-ef45-4455-8c0b-2d70ac0fc608"
      },
      "execution_count": 77,
      "outputs": [
        {
          "output_type": "display_data",
          "data": {
            "text/plain": [
              "<Figure size 640x480 with 3 Axes>"
            ],
            "image/png": "[encoded data removed]"
          },
          "metadata": {}
        }
      ]
    },
    {
      "cell_type": "markdown",
      "source": [
        "## TODO: Part (b)\n",
        "\n",
        "### Part (i)\n",
        "\n",
        "Now we will calculate the feature importances based on groups defined by the sensitive attribute. We will select one ranking function for this question and calculate the rank QoI feature importances for the top 20%."
      ],
      "metadata": {
        "id": "RfP8DFz188bw"
      }
    },
    {
      "cell_type": "code",
      "source": [
        "# @markdown Add the rank to the dataframe\n",
        "data['RANK'] = order_SCHL\n",
        "\n",
        "data.head()"
      ],
      "metadata": {
        "colab": {
          "base_uri": "https://localhost:8080/",
          "height": 206
        },
        "id": "tupsUFwSo9va",
        "outputId": "24c64ac1-7afc-4401-aecb-e6b7bd35ab5a"
      },
      "execution_count": 78,
      "outputs": [
        {
          "output_type": "execute_result",
          "data": {
            "text/plain": [
              "            AGEP      SCHL      WKHP RAC1P  RANK\n",
              "123170  0.363636  0.478261  0.397959     8   493\n",
              "366093  0.363636  0.652174  0.397959     8   425\n",
              "206601  0.515152  0.652174  0.561224     6   324\n",
              "96394   0.151515  0.782609  0.500000     1   333\n",
              "232318  0.393939  0.869565  0.500000     9   129"
            ],
            "text/html": [
              "\n",
              "  <div id=\"df-7fc0ff31-bb10-4819-8084-906bce4bbcd9\" class=\"colab-df-container\">\n",
              "    <div>\n",
              "<style scoped>\n",
              "    .dataframe tbody tr th:only-of-type {\n",
              "        vertical-align: middle;\n",
              "    }\n",
              "\n",
              "    .dataframe tbody tr th {\n",
              "        vertical-align: top;\n",
              "    }\n",
              "\n",
              "    .dataframe thead th {\n",
              "        text-align: right;\n",
              "    }\n",
              "</style>\n",
              "<table border=\"1\" class=\"dataframe\">\n",
              "  <thead>\n",
              "    <tr style=\"text-align: right;\">\n",
              "      <th></th>\n",
              "      <th>AGEP</th>\n",
              "      <th>SCHL</th>\n",
              "      <th>WKHP</th>\n",
              "      <th>RAC1P</th>\n",
              "      <th>RANK</th>\n",
              "    </tr>\n",
              "  </thead>\n",
              "  <tbody>\n",
              "    <tr>\n",
              "      <th>123170</th>\n",
              "      <td>0.363636</td>\n",
              "      <td>0.478261</td>\n",
              "      <td>0.397959</td>\n",
              "      <td>8</td>\n",
              "      <td>493</td>\n",
              "    </tr>\n",
              "    <tr>\n",
              "      <th>366093</th>\n",
              "      <td>0.363636</td>\n",
              "      <td>0.652174</td>\n",
              "      <td>0.397959</td>\n",
              "      <td>8</td>\n",
              "      <td>425</td>\n",
              "    </tr>\n",
              "    <tr>\n",
              "      <th>206601</th>\n",
              "      <td>0.515152</td>\n",
              "      <td>0.652174</td>\n",
              "      <td>0.561224</td>\n",
              "      <td>6</td>\n",
              "      <td>324</td>\n",
              "    </tr>\n",
              "    <tr>\n",
              "      <th>96394</th>\n",
              "      <td>0.151515</td>\n",
              "      <td>0.782609</td>\n",
              "      <td>0.500000</td>\n",
              "      <td>1</td>\n",
              "      <td>333</td>\n",
              "    </tr>\n",
              "    <tr>\n",
              "      <th>232318</th>\n",
              "      <td>0.393939</td>\n",
              "      <td>0.869565</td>\n",
              "      <td>0.500000</td>\n",
              "      <td>9</td>\n",
              "      <td>129</td>\n",
              "    </tr>\n",
              "  </tbody>\n",
              "</table>\n",
              "</div>\n",
              "    <div class=\"colab-df-buttons\">\n",
              "\n",
              "  <div class=\"colab-df-container\">\n",
              "    <button class=\"colab-df-convert\" onclick=\"convertToInteractive('df-7fc0ff31-bb10-4819-8084-906bce4bbcd9')\"\n",
              "            title=\"Convert this dataframe to an interactive table.\"\n",
              "            style=\"display:none;\">\n",
              "\n",
              "  <svg xmlns=\"http://www.w3.org/2000/svg\" height=\"24px\" viewBox=\"0 -960 960 960\">\n",
              "    <path d=\"M120-120v-720h720v720H120Zm60-500h600v-160H180v160Zm220 220h160v-160H400v160Zm0 220h160v-160H400v160ZM180-400h160v-160H180v160Zm440 0h160v-160H620v160ZM180-180h160v-160H180v160Zm440 0h160v-160H620v160Z\"/>\n",
              "  </svg>\n",
              "    </button>\n",
              "\n",
              "  <style>\n",
              "    .colab-df-container {\n",
              "      display:flex;\n",
              "      gap: 12px;\n",
              "    }\n",
              "\n",
              "    .colab-df-convert {\n",
              "      background-color: #E8F0FE;\n",
              "      border: none;\n",
              "      border-radius: 50%;\n",
              "      cursor: pointer;\n",
              "      display: none;\n",
              "      fill: #1967D2;\n",
              "      height: 32px;\n",
              "      padding: 0 0 0 0;\n",
              "      width: 32px;\n",
              "    }\n",
              "\n",
              "    .colab-df-convert:hover {\n",
              "      background-color: #E2EBFA;\n",
              "      box-shadow: 0px 1px 2px rgba(60, 64, 67, 0.3), 0px 1px 3px 1px rgba(60, 64, 67, 0.15);\n",
              "      fill: #174EA6;\n",
              "    }\n",
              "\n",
              "    .colab-df-buttons div {\n",
              "      margin-bottom: 4px;\n",
              "    }\n",
              "\n",
              "    [theme=dark] .colab-df-convert {\n",
              "      background-color: #3B4455;\n",
              "      fill: #D2E3FC;\n",
              "    }\n",
              "\n",
              "    [theme=dark] .colab-df-convert:hover {\n",
              "      background-color: #434B5C;\n",
              "      box-shadow: 0px 1px 3px 1px rgba(0, 0, 0, 0.15);\n",
              "      filter: drop-shadow(0px 1px 2px rgba(0, 0, 0, 0.3));\n",
              "      fill: #FFFFFF;\n",
              "    }\n",
              "  </style>\n",
              "\n",
              "    <script>\n",
              "      const buttonEl =\n",
              "        document.querySelector('#df-7fc0ff31-bb10-4819-8084-906bce4bbcd9 button.colab-df-convert');\n",
              "      buttonEl.style.display =\n",
              "        google.colab.kernel.accessAllowed ? 'block' : 'none';\n",
              "\n",
              "      async function convertToInteractive(key) {\n",
              "        const element = document.querySelector('#df-7fc0ff31-bb10-4819-8084-906bce4bbcd9');\n",
              "        const dataTable =\n",
              "          await google.colab.kernel.invokeFunction('convertToInteractive',\n",
              "                                                    [key], {});\n",
              "        if (!dataTable) return;\n",
              "\n",
              "        const docLinkHtml = 'Like what you see? Visit the ' +\n",
              "          '<a target=\"_blank\" href=https://colab.research.google.com/notebooks/data_table.ipynb>data table notebook</a>'\n",
              "          + ' to learn more about interactive tables.';\n",
              "        element.innerHTML = '';\n",
              "        dataTable['output_type'] = 'display_data';\n",
              "        await google.colab.output.renderOutput(dataTable, element);\n",
              "        const docLink = document.createElement('div');\n",
              "        docLink.innerHTML = docLinkHtml;\n",
              "        element.appendChild(docLink);\n",
              "      }\n",
              "    </script>\n",
              "  </div>\n",
              "\n",
              "\n",
              "<div id=\"df-10638a5d-6790-4ba0-b149-6bc001c369a2\">\n",
              "  <button class=\"colab-df-quickchart\" onclick=\"quickchart('df-10638a5d-6790-4ba0-b149-6bc001c369a2')\"\n",
              "            title=\"Suggest charts\"\n",
              "            style=\"display:none;\">\n",
              "\n",
              "<svg xmlns=\"http://www.w3.org/2000/svg\" height=\"24px\"viewBox=\"0 0 24 24\"\n",
              "     width=\"24px\">\n",
              "    <g>\n",
              "        <path d=\"M19 3H5c-1.1 0-2 .9-2 2v14c0 1.1.9 2 2 2h14c1.1 0 2-.9 2-2V5c0-1.1-.9-2-2-2zM9 17H7v-7h2v7zm4 0h-2V7h2v10zm4 0h-2v-4h2v4z\"/>\n",
              "    </g>\n",
              "</svg>\n",
              "  </button>\n",
              "\n",
              "<style>\n",
              "  .colab-df-quickchart {\n",
              "      --bg-color: #E8F0FE;\n",
              "      --fill-color: #1967D2;\n",
              "      --hover-bg-color: #E2EBFA;\n",
              "      --hover-fill-color: #174EA6;\n",
              "      --disabled-fill-color: #AAA;\n",
              "      --disabled-bg-color: #DDD;\n",
              "  }\n",
              "\n",
              "  [theme=dark] .colab-df-quickchart {\n",
              "      --bg-color: #3B4455;\n",
              "      --fill-color: #D2E3FC;\n",
              "      --hover-bg-color: #434B5C;\n",
              "      --hover-fill-color: #FFFFFF;\n",
              "      --disabled-bg-color: #3B4455;\n",
              "      --disabled-fill-color: #666;\n",
              "  }\n",
              "\n",
              "  .colab-df-quickchart {\n",
              "    background-color: var(--bg-color);\n",
              "    border: none;\n",
              "    border-radius: 50%;\n",
              "    cursor: pointer;\n",
              "    display: none;\n",
              "    fill: var(--fill-color);\n",
              "    height: 32px;\n",
              "    padding: 0;\n",
              "    width: 32px;\n",
              "  }\n",
              "\n",
              "  .colab-df-quickchart:hover {\n",
              "    background-color: var(--hover-bg-color);\n",
              "    box-shadow: 0 1px 2px rgba(60, 64, 67, 0.3), 0 1px 3px 1px rgba(60, 64, 67, 0.15);\n",
              "    fill: var(--button-hover-fill-color);\n",
              "  }\n",
              "\n",
              "  .colab-df-quickchart-complete:disabled,\n",
              "  .colab-df-quickchart-complete:disabled:hover {\n",
              "    background-color: var(--disabled-bg-color);\n",
              "    fill: var(--disabled-fill-color);\n",
              "    box-shadow: none;\n",
              "  }\n",
              "\n",
              "  .colab-df-spinner {\n",
              "    border: 2px solid var(--fill-color);\n",
              "    border-color: transparent;\n",
              "    border-bottom-color: var(--fill-color);\n",
              "    animation:\n",
              "      spin 1s steps(1) infinite;\n",
              "  }\n",
              "\n",
              "  @keyframes spin {\n",
              "    0% {\n",
              "      border-color: transparent;\n",
              "      border-bottom-color: var(--fill-color);\n",
              "      border-left-color: var(--fill-color);\n",
              "    }\n",
              "    20% {\n",
              "      border-color: transparent;\n",
              "      border-left-color: var(--fill-color);\n",
              "      border-top-color: var(--fill-color);\n",
              "    }\n",
              "    30% {\n",
              "      border-color: transparent;\n",
              "      border-left-color: var(--fill-color);\n",
              "      border-top-color: var(--fill-color);\n",
              "      border-right-color: var(--fill-color);\n",
              "    }\n",
              "    40% {\n",
              "      border-color: transparent;\n",
              "      border-right-color: var(--fill-color);\n",
              "      border-top-color: var(--fill-color);\n",
              "    }\n",
              "    60% {\n",
              "      border-color: transparent;\n",
              "      border-right-color: var(--fill-color);\n",
              "    }\n",
              "    80% {\n",
              "      border-color: transparent;\n",
              "      border-right-color: var(--fill-color);\n",
              "      border-bottom-color: var(--fill-color);\n",
              "    }\n",
              "    90% {\n",
              "      border-color: transparent;\n",
              "      border-bottom-color: var(--fill-color);\n",
              "    }\n",
              "  }\n",
              "</style>\n",
              "\n",
              "  <script>\n",
              "    async function quickchart(key) {\n",
              "      const quickchartButtonEl =\n",
              "        document.querySelector('#' + key + ' button');\n",
              "      quickchartButtonEl.disabled = true;  // To prevent multiple clicks.\n",
              "      quickchartButtonEl.classList.add('colab-df-spinner');\n",
              "      try {\n",
              "        const charts = await google.colab.kernel.invokeFunction(\n",
              "            'suggestCharts', [key], {});\n",
              "      } catch (error) {\n",
              "        console.error('Error during call to suggestCharts:', error);\n",
              "      }\n",
              "      quickchartButtonEl.classList.remove('colab-df-spinner');\n",
              "      quickchartButtonEl.classList.add('colab-df-quickchart-complete');\n",
              "    }\n",
              "    (() => {\n",
              "      let quickchartButtonEl =\n",
              "        document.querySelector('#df-10638a5d-6790-4ba0-b149-6bc001c369a2 button');\n",
              "      quickchartButtonEl.style.display =\n",
              "        google.colab.kernel.accessAllowed ? 'block' : 'none';\n",
              "    })();\n",
              "  </script>\n",
              "</div>\n",
              "\n",
              "    </div>\n",
              "  </div>\n"
            ],
            "application/vnd.google.colaboratory.intrinsic+json": {
              "type": "dataframe",
              "variable_name": "data",
              "summary": "{\n  \"name\": \"data\",\n  \"rows\": 545,\n  \"fields\": [\n    {\n      \"column\": \"AGEP\",\n      \"properties\": {\n        \"dtype\": \"number\",\n        \"std\": 0.21820440102238128,\n        \"min\": 0.0,\n        \"max\": 1.0,\n        \"num_unique_values\": 62,\n        \"samples\": [\n          0.06060606060606061,\n          0.8787878787878789,\n          0.36363636363636365\n        ],\n        \"semantic_type\": \"\",\n        \"description\": \"\"\n      }\n    },\n    {\n      \"column\": \"SCHL\",\n      \"properties\": {\n        \"dtype\": \"number\",\n        \"std\": 0.17966383676036313,\n        \"min\": 0.0,\n        \"max\": 1.0,\n        \"num_unique_values\": 20,\n        \"samples\": [\n          0.4782608695652174,\n          0.6956521739130435,\n          0.6086956521739131\n        ],\n        \"semantic_type\": \"\",\n        \"description\": \"\"\n      }\n    },\n    {\n      \"column\": \"WKHP\",\n      \"properties\": {\n        \"dtype\": \"number\",\n        \"std\": 0.13280638965918368,\n        \"min\": 0.0,\n        \"max\": 0.9999999999999999,\n        \"num_unique_values\": 48,\n        \"samples\": [\n          0.7244897959183673,\n          0.32653061224489793,\n          0.2346938775510204\n        ],\n        \"semantic_type\": \"\",\n        \"description\": \"\"\n      }\n    },\n    {\n      \"column\": \"RAC1P\",\n      \"properties\": {\n        \"dtype\": \"category\",\n        \"num_unique_values\": 7,\n        \"samples\": [\n          8,\n          6,\n          7\n        ],\n        \"semantic_type\": \"\",\n        \"description\": \"\"\n      }\n    },\n    {\n      \"column\": \"RANK\",\n      \"properties\": {\n        \"dtype\": \"number\",\n        \"std\": 157,\n        \"min\": 1,\n        \"max\": 545,\n        \"num_unique_values\": 545,\n        \"samples\": [\n          102,\n          360,\n          44\n        ],\n        \"semantic_type\": \"\",\n        \"description\": \"\"\n      }\n    }\n  ]\n}"
            }
          },
          "metadata": {},
          "execution_count": 78
        }
      ]
    },
    {
      "cell_type": "code",
      "source": [
        "# # @markdown Function that will split feature explanations into different strata.\n",
        "# # @markdown For this question we only look at the top 20% and plot the conributions\n",
        "# # @markdown in 10% strata.\n",
        "\n",
        "# Note that s is the ranks of the individuals (you can find this using the scores_to_ordering utility function, see Lab 8 for an example)\n",
        "def make_boxplot_top20(df, X, s):\n",
        "  buckets = 2\n",
        "  rows = max(s)\n",
        "  df['My Rank'] = s\n",
        "  df['Rank Bucket'] = [\"0-\\n10%\" if math.floor((rank - 1) / (rows / buckets)) == 0 else str(math.floor((rank - 1) / (rows / buckets)) * 10) + \"-\\n\" + str(math.floor(((rank - 1) / (rows / buckets)) + 1) * 10) + \"%\" for rank in df['My Rank']]\n",
        "  df.sort_values(by=['Rank Bucket'],inplace=True)\n",
        "  yaxis_order = list(df.sort_values(by=['Rank Bucket'])['Rank Bucket'].unique())\n",
        "\n",
        "  df = (\n",
        "      df\n",
        "      .drop(columns=[\"My Rank\"])\n",
        "      .melt(id_vars=[\"Rank Bucket\"])\n",
        "      .rename(columns={\"variable\": \"Feature\", \"value\": \"Contribution\"})\n",
        "  )\n",
        "\n",
        "  plot_df = df.copy()\n",
        "\n",
        "  plot_df[\"Rank Bucket\"] = plot_df[\"Rank Bucket\"].str.replace(\"%\", \"\\%\").str.replace(\"<\", \"$<$\")\n",
        "\n",
        "  graph = sns.boxplot(x = plot_df['Rank Bucket'], y = plot_df['Contribution'], hue = plot_df['Feature'], palette = \"Set2\")\n",
        "  sns.move_legend(\n",
        "      graph, \"lower center\", bbox_to_anchor=(1, 1.05), ncol=4, title=None, frameon=False, labels=[\"AGEP\",'WKHP',\"SCHL\"]\n",
        "  )\n",
        "  plt.setp(graph.patches, linewidth=1)\n",
        "  graph.set_xlabel(\"Rank stratum\\n(a)\")\n",
        "\n",
        "  plt.show()"
      ],
      "metadata": {
        "id": "PyBDLcGD71FB"
      },
      "execution_count": 79,
      "outputs": []
    },
    {
      "cell_type": "markdown",
      "source": [
        "Below is a usage example for this function given an X and y as they are created in this assignment:\n",
        "\n",
        "\n",
        "```\n",
        "# NEW\n",
        "sharp_ranking_SCHL_not_white = ShaRP(\n",
        "    qoi=\"rank\",\n",
        "    target_function=score_function_SCHL,\n",
        "    measure=\"shapley\",\n",
        "    sample_size=None,\n",
        "    replace=False,\n",
        "    random_state=42,\n",
        ")\n",
        "X = data_non_white.drop(columns=['RAC1P', 'RANK']).to_numpy()\n",
        "ranks = data_non_white['RANK'].to_numpy()\n",
        "sharp_ranking_SCHL_not_white.fit(X)\n",
        "df = pd.DataFrame(sharp_ranking_SCHL_not_white.all(X))\n",
        "make_boxplot_top20(df,X, ranks)\n",
        "```\n",
        "\n"
      ],
      "metadata": {
        "id": "Qt32tLEHqC6T"
      }
    },
    {
      "cell_type": "code",
      "source": [
        "# Split the top-20% into two new dataframes (white and non-white) using the race feature\n",
        "top_20 = data['RANK'].quantile(0.2)\n",
        "top_20_data = data[data['RANK'] <= top_20]\n",
        "white = top_20_data[top_20_data['RAC1P'] == 1]\n",
        "nonwhite = top_20_data[top_20_data['RAC1P'] != 1]"
      ],
      "metadata": {
        "id": "FeeqjjUOos_8"
      },
      "execution_count": 80,
      "outputs": []
    },
    {
      "cell_type": "code",
      "source": [
        "X_white = white.drop(columns=['RAC1P', 'RANK']).to_numpy()\n",
        "X_nonwhite = nonwhite.drop(columns=['RAC1P', 'RANK']).to_numpy()\n",
        "\n",
        "white_ranks = white['RANK'].to_numpy()\n",
        "nonwhite_ranks = nonwhite['RANK'].to_numpy()"
      ],
      "metadata": {
        "id": "7Uh9b9v_qnTs"
      },
      "execution_count": 81,
      "outputs": []
    },
    {
      "cell_type": "code",
      "source": [
        "# Create a ShaRP object for the white dataframe\n",
        "\n",
        "white_sharp_ranking_SCHL = ShaRP(\n",
        "    qoi=\"rank\",\n",
        "    target_function=score_function_SCHL,\n",
        "    measure=\"shapley\",\n",
        "    sample_size=None,\n",
        "    replace=False,\n",
        "    random_state=42,\n",
        ")\n",
        "\n",
        "white_sharp_ranking_SCHL.fit(X_white)"
      ],
      "metadata": {
        "id": "HO3OQSgvqqjh"
      },
      "execution_count": 83,
      "outputs": []
    },
    {
      "cell_type": "code",
      "source": [
        "# Create a ShaRP object for the non-white dataframe\n",
        "nonwhite_sharp_ranking_SCHL = ShaRP(\n",
        "    qoi=\"rank\",\n",
        "    target_function=score_function_SCHL,\n",
        "    measure=\"shapley\",\n",
        "    sample_size=None,\n",
        "    replace=False,\n",
        "    random_state=42,\n",
        ")\n",
        "\n",
        "nonwhite_sharp_ranking_SCHL.fit(X_nonwhite)"
      ],
      "metadata": {
        "id": "aNvKs9RbwPzb"
      },
      "execution_count": 84,
      "outputs": []
    },
    {
      "cell_type": "code",
      "source": [
        "white_df = pd.DataFrame(white_sharp_ranking_SCHL.all(X_white))"
      ],
      "metadata": {
        "id": "sVs5J1ZnwZfW"
      },
      "execution_count": 85,
      "outputs": []
    },
    {
      "cell_type": "code",
      "source": [
        "nonwhite_df = pd.DataFrame(nonwhite_sharp_ranking_SCHL.all(X_nonwhite))"
      ],
      "metadata": {
        "id": "-Jounj7fwe9q"
      },
      "execution_count": 86,
      "outputs": []
    },
    {
      "cell_type": "markdown",
      "source": [
        "### Part (ii)"
      ],
      "metadata": {
        "id": "OXqsAA0jqtOG"
      }
    },
    {
      "cell_type": "code",
      "source": [
        "# Use the make_boxplot_top20 function on each of the dataframes (see usage example above)\n",
        "plt.title('Whites')\n",
        "make_boxplot_top20(white_df, X_white, white_ranks)"
      ],
      "metadata": {
        "id": "UGh15cvbo9ne",
        "colab": {
          "base_uri": "https://localhost:8080/",
          "height": 532
        },
        "outputId": "35f37b68-5059-4fc9-e748-f85efbb19f12"
      },
      "execution_count": 88,
      "outputs": [
        {
          "output_type": "display_data",
          "data": {
            "text/plain": [
              "<Figure size 640x480 with 1 Axes>"
            ],
            "image/png": "[encoded data removed]"
          },
          "metadata": {}
        }
      ]
    },
    {
      "cell_type": "markdown",
      "source": [
        "### Part (iii)\n",
        "\n",
        "Inspect the plots in Part (ii)"
      ],
      "metadata": {
        "id": "4BZPRgssrj7C"
      }
    },
    {
      "cell_type": "markdown",
      "source": [
        "### Part (iv)\n",
        "\n",
        "Inspect the plots in Part (ii)"
      ],
      "metadata": {
        "id": "bmUYv4uAry_D"
      }
    },
    {
      "cell_type": "markdown",
      "source": [
        "# Part (c)\n",
        "\n",
        "Now we will try to compare the feature importance of two separate people (the 200th and the 300th). Select two samples and calculate their individual feature contributions under any QoI. Like in the question above, fix the ranking function to the first one to do so. Late visualize a way to explain why one is ranked higher than the other!\n",
        "\n",
        "**Note:** use the full dataset (not the datasets for each race) and use the `score_function_SCHL` ranker."
      ],
      "metadata": {
        "id": "Pg83qFN9_6pa"
      }
    },
    {
      "cell_type": "code",
      "source": [
        "# Select the index of the 200th ranked individual and save them in a variable called i200\n",
        "# Select the index of the 300th ranked individual and save them in a variable called i300"
      ],
      "metadata": {
        "id": "fkG8dZJIr63Q"
      },
      "execution_count": null,
      "outputs": []
    },
    {
      "cell_type": "code",
      "source": [
        "# Create a waterfall plot for each of these individuals"
      ],
      "metadata": {
        "id": "DJ19CxkqsCin"
      },
      "execution_count": null,
      "outputs": []
    },
    {
      "cell_type": "code",
      "source": [
        "# Design a new way to visualize the difference between these two individuals\n",
        "# Be creative! There are no wrong answers, only incompletes :)"
      ],
      "metadata": {
        "id": "xDjpcHUjsWfY"
      },
      "execution_count": null,
      "outputs": []
    },
    {
      "cell_type": "code",
      "source": [],
      "metadata": {
        "id": "eiL6-LS4s8G8"
      },
      "execution_count": null,
      "outputs": []
    }
  ]
}